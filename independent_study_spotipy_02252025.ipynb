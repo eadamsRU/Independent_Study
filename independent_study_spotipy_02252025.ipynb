{
 "cells": [
  {
   "cell_type": "markdown",
   "metadata": {},
   "source": [
    "# <span style=\"color:#1DB954;\"><b>Independent Study - 01/28/2025 </b>\n"
   ]
  },
  {
   "cell_type": "markdown",
   "metadata": {},
   "source": [
    "### <b>Class one meeting 01/28/2025, summary</b>"
   ]
  },
  {
   "cell_type": "markdown",
   "metadata": {},
   "source": [
    "/////////////////////////////////////////////////////////////////\n",
    "get data as soon as possible like this week\n",
    "\n",
    "contribute to the literature. know what has been done and try and publish your study in the literature.\n",
    "\n",
    "Build on something that has been done\n",
    "\n",
    "think beyond graduatiuon, pick something you are passionate about\n",
    "\n",
    "anything in data science, think like a final project we did for a class.\n",
    "\n",
    "Something publishable, does something new, does something better\n",
    "\n",
    "//////////////////////////////// End goal ////////////////////////////////////////////////\n",
    "do something new, we contribute something to the literature. connect to the literature and imporve upon it\n",
    "\ta way to do this is to find something somebody else already did and you try and extend it or add a twist to it.\n",
    "\t\tSay they did a study in the US but you want to do something for NJ\n",
    "////////////////////////////////////////////////////////////////////////////////\n",
    "////////////////////////////////////////////////////////////////\n",
    "\n",
    "//////////////////////////////// ?Questions? -Answered- ////////////////////////////////\n",
    "Q: what does our deliverables look like this through the semester?\n",
    "\twhat are you looking for as the semester goes, or is the main thing just to deliver the final project and periodically we have check ins\n",
    "\n",
    "A: ***NEXT WEEK do mini  presentation, research question, hypothesis, variables, all the preliminary analysis [02-04-2025]\n",
    "///////////////////////////////////////////////////////////////////////////"
   ]
  },
  {
   "cell_type": "markdown",
   "metadata": {},
   "source": [
    "### <span style=\"color:#ffd900\"><b>Ideas</b>"
   ]
  },
  {
   "cell_type": "markdown",
   "metadata": {},
   "source": [
    "////////////////////////////////////// Spotify API IDEAS ///////////////////////////////////////////////////\n",
    "\n",
    "* How can I get started on say a playlist genre classification analysis hybrid data science project?\n",
    "* I can do say EDM throughout Europe, analysis of similiarities and differences with favorite genres. Maybe cross examine that with culture of countries or international economies and stuff like that\n",
    "* \n",
    "////////////////////////////////////////////////////////////////////////////////////////////////"
   ]
  },
  {
   "cell_type": "markdown",
   "metadata": {},
   "source": [
    "### <span style=\"color:#ff0000;\"><b>Deadlines/Deliverables</b></span>\n"
   ]
  },
  {
   "cell_type": "markdown",
   "metadata": {},
   "source": [
    "<font color='red'>\n",
    "[02-04-2025]</font>\n",
    "\n",
    "\n",
    "\t*Next week have the datasets, along with mini presentation:\n",
    "\t\tDo some prelimanry analysis, like some descriptive stats\n",
    "\t\t\t* Have a one page writeup to propose this study: \n",
    "\t\t\t\t- research question,\n",
    "\t\t\t\t- hypothesis,\n",
    "\t\t\t\t- what kind of variables,\n",
    "\t\t\t\t- All preliminary analysis, \n",
    "\t\t\t\t- significance, \"why are we doing this?\"\n",
    "\n",
    "\t* Send him the github:\n",
    "\t\t- Have the writeup as a notebook and upload there\n",
    "\t\t- Have theaok as a contributor on that github repo\n",
    "\n",
    "\n",
    "<font color='red'>\n",
    "[03/15/2025-03/23/2025]</font>\n",
    "\n",
    "\t* Early draft around mid semester like around spring break\n",
    "\n",
    "\n",
    "<font color='red'>\n",
    "[05/08/2025-05/14/2025]</font>\n",
    "\n",
    "\t* Final Exam Period\n"
   ]
  },
  {
   "cell_type": "markdown",
   "metadata": {},
   "source": [
    "### <b>One Page Writeup - 01/28/2025</b>\n"
   ]
  },
  {
   "cell_type": "markdown",
   "metadata": {},
   "source": [
    "<font color=#1DB954>\n",
    "<font size=10>\n",
    "<b>ELECTRONIC DANCE MUSIC(EDM) LISTENING TRENDS ACROSS EUROPE USING SPOTIPY(PYTHON LIBRARY - SPOTIFY API)</b>\n",
    "</font></font>\n",
    "\n",
    "<font color=#1ED76>\n",
    "<font size=6>\n",
    "\n",
    "Hypothesis:\n",
    "</font></font>\n",
    "\n",
    "Null Hypothesis (H0)\n",
    "H0: There is no significant difference in EDM track characteristics (tempo, energy, danceability, etc.) across European countries.\n",
    "(This serves as the baseline to test against in statistical analyses.)\n",
    "\n",
    "Alternative Hypothesis (H1)\n",
    "H1: The tempo of popular EDM tracks in European countries correlates with national happiness index scores\n",
    "(Example expectation: Countries with higher happiness scores may prefer more upbeat and energetic EDM music.)\n",
    "\n",
    "Alternative Hypothesis (H2)\n",
    "H2: The frequency of popular EDM tracks being played throughout European countries correlates with Countries GDP per capita\n",
    "(Example expectation: Countries with greater GDP per capita may prefer more EDM music to be played.)\n",
    "\n",
    "\t()\n",
    "<font color=#1ED76>\n",
    "<font size=6>\n",
    "Research question:\n",
    "</font></font>\n",
    "\n",
    "Based on the hypothesis, is this accurate to use as another cross-examing factor to analysis countries national happiness scores?\n",
    "We can also base this on their economic scenarios. Countries listening to happy music could be doing very well. More people listening to upbeat/fast tempo music could mean more parties and celebrations occuring. Odds are if times are tough, people would not be celebrating as much.\n",
    "\n",
    "\n",
    "<font color=#1ED76>\n",
    "<font size=6>\n",
    "\n",
    "Preliminary Analysis:\n",
    "</font></font>\n",
    "\n",
    "Need to get an understanding of how the Spotipy, and other spotify datasets frame this data. How exactly it is measured and what not.\n",
    "\n",
    "\tWhy are we doing this?:\n",
    "\n",
    "* This is just an interesting study to do that is both fun but can give use a new look into how countries can have their overall \"Wellness\" tracked. My hyptothesis is that if a countries economy is doing well odds are people are celebrating privately. \n",
    "* Why something like this is important is to see people, businesses, and other foreign countries trying to forcast where they should allocate their pursuits for the future. Any business person will want to do business with an area that shows great promise.\n",
    "<font color=#1ED76>\n",
    "<font size=6>\n",
    "\n",
    "Variables (include definitions/explanations):\n",
    "</font></font>\n",
    "\n",
    "This below dataset is from https://www.kaggle.com/datasets/maharshipandya/-spotify-tracks-dataset This is just one of the datasets I plan on using. Ideally I want to use something with Spotipy or use Spotify's devolper dashboard, but this is just to give some sort of idea.: \n",
    "\n",
    "* '#'\n",
    "* track_id\n",
    "* artists\n",
    "* album_name\n",
    "* track_name\n",
    "* popularity\n",
    "* duration_ms\n",
    "* explicit\n",
    "* danceability\n",
    "* energy\n",
    "* key\n",
    "* loudness\n",
    "* mode\n",
    "* speechiness\n",
    "* acousticness\n",
    "* instrumentalness\n",
    "* liveness\n",
    "* valence\n",
    "* tempo\n",
    "* time_signature\n",
    "* track_genre\n",
    "\n",
    "I plan to have the focus be on only EDM songs with the dataaset used like the above for the final product.\n",
    "\n",
    "These are some of the variables found from the https://www.theglobaleconomy.com/download-data.php data query for European countries available on the site that I queried for the time period 2008-2025 (Spotifdy was founded in 2008, odds are all of our data from Spotify won't be from this exact date range but just a note.) \n",
    "\n",
    "* Country\n",
    "* Code\n",
    "* Continent\n",
    "* Year\n",
    "* Economic growth\n",
    "* Inflation percent change in the Consumer Price Index\n",
    "* Unemployment Rate\n",
    "* Youth Employment,a ges 15-24\n",
    "* GDP per capita, current U.S. dollars\n",
    "* Labor force, million people\n",
    "* Exchange rate regimes\n",
    "* Self-employment, percent of total employment\n",
    "* Financial development\n",
    "* Innovations index (0-100)\n",
    "* Happiness Index, 0 (unhappy) - 10 (happy)\n",
    "* Average hours worked per year\n",
    "\n",
    "\n",
    "\n",
    "<font color=#1ED76>\n",
    "<font size=6>\n",
    "\n",
    "Descriptive stats:\n",
    "</font></font>\n",
    "\n",
    "[Based on kaggle dataset - \"Spotify Tracks Dataset\" https://www.kaggle.com/datasets/maharshipandya/-spotify-tracks-dataset]\n",
    "* danceability\n",
    "* energy\n",
    "* popularity\n",
    "\n",
    "Economic status\n",
    "* Country GDP per capita\n",
    "\n",
    "National happiness index score rating variable\n",
    "\t[Need to find a dataset for this for all of Europe]\n"
   ]
  },
  {
   "cell_type": "markdown",
   "metadata": {},
   "source": [
    "<b><font color=#FF4E68>Why this is important?</font></b>\n",
    "\n",
    "* EDM festivals; for looking at which cities they should prioritize to host their events.\n",
    "* Marketing: Can use this to forecast trends in the EDM community and now when and where to market to around Europe.\n",
    "* \n",
    "\n"
   ]
  },
  {
   "cell_type": "markdown",
   "metadata": {},
   "source": [
    "### <span style=\"color:#1DB954;\"><b>Datasets/Preparation</b></span>\n",
    "\n"
   ]
  },
  {
   "cell_type": "markdown",
   "metadata": {},
   "source": [
    "#### <span style=\"color:#1ED760;\"><b>Spotify Datasets</b></span>\n"
   ]
  },
  {
   "cell_type": "markdown",
   "metadata": {},
   "source": [
    "<span style=\"color:#FF4E68;\"><b>Lets get our spotify dataset"
   ]
  },
  {
   "cell_type": "code",
   "execution_count": 1,
   "metadata": {},
   "outputs": [],
   "source": [
    "# get dataset\n",
    "import pandas as pd\n",
    "tracks = pd.read_csv('https://github.com/eadamsRU/Independent_Study/raw/refs/heads/main/SpotifyTracksDataset.csv')\n"
   ]
  },
  {
   "cell_type": "code",
   "execution_count": 2,
   "metadata": {},
   "outputs": [
    {
     "data": {
      "text/html": [
       "<div>\n",
       "<style scoped>\n",
       "    .dataframe tbody tr th:only-of-type {\n",
       "        vertical-align: middle;\n",
       "    }\n",
       "\n",
       "    .dataframe tbody tr th {\n",
       "        vertical-align: top;\n",
       "    }\n",
       "\n",
       "    .dataframe thead th {\n",
       "        text-align: right;\n",
       "    }\n",
       "</style>\n",
       "<table border=\"1\" class=\"dataframe\">\n",
       "  <thead>\n",
       "    <tr style=\"text-align: right;\">\n",
       "      <th></th>\n",
       "      <th>Unnamed: 0</th>\n",
       "      <th>track_id</th>\n",
       "      <th>artists</th>\n",
       "      <th>album_name</th>\n",
       "      <th>track_name</th>\n",
       "      <th>popularity</th>\n",
       "      <th>duration_ms</th>\n",
       "      <th>explicit</th>\n",
       "      <th>danceability</th>\n",
       "      <th>energy</th>\n",
       "      <th>...</th>\n",
       "      <th>loudness</th>\n",
       "      <th>mode</th>\n",
       "      <th>speechiness</th>\n",
       "      <th>acousticness</th>\n",
       "      <th>instrumentalness</th>\n",
       "      <th>liveness</th>\n",
       "      <th>valence</th>\n",
       "      <th>tempo</th>\n",
       "      <th>time_signature</th>\n",
       "      <th>track_genre</th>\n",
       "    </tr>\n",
       "  </thead>\n",
       "  <tbody>\n",
       "    <tr>\n",
       "      <th>0</th>\n",
       "      <td>0</td>\n",
       "      <td>5SuOikwiRyPMVoIQDJUgSV</td>\n",
       "      <td>Gen Hoshino</td>\n",
       "      <td>Comedy</td>\n",
       "      <td>Comedy</td>\n",
       "      <td>73</td>\n",
       "      <td>230666</td>\n",
       "      <td>False</td>\n",
       "      <td>0.676</td>\n",
       "      <td>0.4610</td>\n",
       "      <td>...</td>\n",
       "      <td>-6.746</td>\n",
       "      <td>0</td>\n",
       "      <td>0.1430</td>\n",
       "      <td>0.0322</td>\n",
       "      <td>0.000001</td>\n",
       "      <td>0.3580</td>\n",
       "      <td>0.715</td>\n",
       "      <td>87.917</td>\n",
       "      <td>4</td>\n",
       "      <td>acoustic</td>\n",
       "    </tr>\n",
       "    <tr>\n",
       "      <th>1</th>\n",
       "      <td>1</td>\n",
       "      <td>4qPNDBW1i3p13qLCt0Ki3A</td>\n",
       "      <td>Ben Woodward</td>\n",
       "      <td>Ghost (Acoustic)</td>\n",
       "      <td>Ghost - Acoustic</td>\n",
       "      <td>55</td>\n",
       "      <td>149610</td>\n",
       "      <td>False</td>\n",
       "      <td>0.420</td>\n",
       "      <td>0.1660</td>\n",
       "      <td>...</td>\n",
       "      <td>-17.235</td>\n",
       "      <td>1</td>\n",
       "      <td>0.0763</td>\n",
       "      <td>0.9240</td>\n",
       "      <td>0.000006</td>\n",
       "      <td>0.1010</td>\n",
       "      <td>0.267</td>\n",
       "      <td>77.489</td>\n",
       "      <td>4</td>\n",
       "      <td>acoustic</td>\n",
       "    </tr>\n",
       "    <tr>\n",
       "      <th>2</th>\n",
       "      <td>2</td>\n",
       "      <td>1iJBSr7s7jYXzM8EGcbK5b</td>\n",
       "      <td>Ingrid Michaelson;ZAYN</td>\n",
       "      <td>To Begin Again</td>\n",
       "      <td>To Begin Again</td>\n",
       "      <td>57</td>\n",
       "      <td>210826</td>\n",
       "      <td>False</td>\n",
       "      <td>0.438</td>\n",
       "      <td>0.3590</td>\n",
       "      <td>...</td>\n",
       "      <td>-9.734</td>\n",
       "      <td>1</td>\n",
       "      <td>0.0557</td>\n",
       "      <td>0.2100</td>\n",
       "      <td>0.000000</td>\n",
       "      <td>0.1170</td>\n",
       "      <td>0.120</td>\n",
       "      <td>76.332</td>\n",
       "      <td>4</td>\n",
       "      <td>acoustic</td>\n",
       "    </tr>\n",
       "    <tr>\n",
       "      <th>3</th>\n",
       "      <td>3</td>\n",
       "      <td>6lfxq3CG4xtTiEg7opyCyx</td>\n",
       "      <td>Kina Grannis</td>\n",
       "      <td>Crazy Rich Asians (Original Motion Picture Sou...</td>\n",
       "      <td>Can't Help Falling In Love</td>\n",
       "      <td>71</td>\n",
       "      <td>201933</td>\n",
       "      <td>False</td>\n",
       "      <td>0.266</td>\n",
       "      <td>0.0596</td>\n",
       "      <td>...</td>\n",
       "      <td>-18.515</td>\n",
       "      <td>1</td>\n",
       "      <td>0.0363</td>\n",
       "      <td>0.9050</td>\n",
       "      <td>0.000071</td>\n",
       "      <td>0.1320</td>\n",
       "      <td>0.143</td>\n",
       "      <td>181.740</td>\n",
       "      <td>3</td>\n",
       "      <td>acoustic</td>\n",
       "    </tr>\n",
       "    <tr>\n",
       "      <th>4</th>\n",
       "      <td>4</td>\n",
       "      <td>5vjLSffimiIP26QG5WcN2K</td>\n",
       "      <td>Chord Overstreet</td>\n",
       "      <td>Hold On</td>\n",
       "      <td>Hold On</td>\n",
       "      <td>82</td>\n",
       "      <td>198853</td>\n",
       "      <td>False</td>\n",
       "      <td>0.618</td>\n",
       "      <td>0.4430</td>\n",
       "      <td>...</td>\n",
       "      <td>-9.681</td>\n",
       "      <td>1</td>\n",
       "      <td>0.0526</td>\n",
       "      <td>0.4690</td>\n",
       "      <td>0.000000</td>\n",
       "      <td>0.0829</td>\n",
       "      <td>0.167</td>\n",
       "      <td>119.949</td>\n",
       "      <td>4</td>\n",
       "      <td>acoustic</td>\n",
       "    </tr>\n",
       "  </tbody>\n",
       "</table>\n",
       "<p>5 rows × 21 columns</p>\n",
       "</div>"
      ],
      "text/plain": [
       "   Unnamed: 0                track_id                 artists  \\\n",
       "0           0  5SuOikwiRyPMVoIQDJUgSV             Gen Hoshino   \n",
       "1           1  4qPNDBW1i3p13qLCt0Ki3A            Ben Woodward   \n",
       "2           2  1iJBSr7s7jYXzM8EGcbK5b  Ingrid Michaelson;ZAYN   \n",
       "3           3  6lfxq3CG4xtTiEg7opyCyx            Kina Grannis   \n",
       "4           4  5vjLSffimiIP26QG5WcN2K        Chord Overstreet   \n",
       "\n",
       "                                          album_name  \\\n",
       "0                                             Comedy   \n",
       "1                                   Ghost (Acoustic)   \n",
       "2                                     To Begin Again   \n",
       "3  Crazy Rich Asians (Original Motion Picture Sou...   \n",
       "4                                            Hold On   \n",
       "\n",
       "                   track_name  popularity  duration_ms  explicit  \\\n",
       "0                      Comedy          73       230666     False   \n",
       "1            Ghost - Acoustic          55       149610     False   \n",
       "2              To Begin Again          57       210826     False   \n",
       "3  Can't Help Falling In Love          71       201933     False   \n",
       "4                     Hold On          82       198853     False   \n",
       "\n",
       "   danceability  energy  ...  loudness  mode  speechiness  acousticness  \\\n",
       "0         0.676  0.4610  ...    -6.746     0       0.1430        0.0322   \n",
       "1         0.420  0.1660  ...   -17.235     1       0.0763        0.9240   \n",
       "2         0.438  0.3590  ...    -9.734     1       0.0557        0.2100   \n",
       "3         0.266  0.0596  ...   -18.515     1       0.0363        0.9050   \n",
       "4         0.618  0.4430  ...    -9.681     1       0.0526        0.4690   \n",
       "\n",
       "   instrumentalness  liveness  valence    tempo  time_signature  track_genre  \n",
       "0          0.000001    0.3580    0.715   87.917               4     acoustic  \n",
       "1          0.000006    0.1010    0.267   77.489               4     acoustic  \n",
       "2          0.000000    0.1170    0.120   76.332               4     acoustic  \n",
       "3          0.000071    0.1320    0.143  181.740               3     acoustic  \n",
       "4          0.000000    0.0829    0.167  119.949               4     acoustic  \n",
       "\n",
       "[5 rows x 21 columns]"
      ]
     },
     "execution_count": 2,
     "metadata": {},
     "output_type": "execute_result"
    }
   ],
   "source": [
    "tracks.head(5)"
   ]
  },
  {
   "cell_type": "code",
   "execution_count": 13,
   "metadata": {},
   "outputs": [
    {
     "data": {
      "text/plain": [
       "Unnamed: 0            int64\n",
       "track_id             object\n",
       "artists              object\n",
       "album_name           object\n",
       "track_name           object\n",
       "popularity            int64\n",
       "duration_ms           int64\n",
       "explicit               bool\n",
       "danceability        float64\n",
       "energy              float64\n",
       "key                   int64\n",
       "loudness            float64\n",
       "mode                  int64\n",
       "speechiness         float64\n",
       "acousticness        float64\n",
       "instrumentalness    float64\n",
       "liveness            float64\n",
       "valence             float64\n",
       "tempo               float64\n",
       "time_signature        int64\n",
       "track_genre          object\n",
       "dtype: object"
      ]
     },
     "execution_count": 13,
     "metadata": {},
     "output_type": "execute_result"
    }
   ],
   "source": [
    "tracks.dtypes"
   ]
  },
  {
   "cell_type": "markdown",
   "metadata": {},
   "source": [
    "<span style=\"color:#FF4E68;\"><b>Genre analysis"
   ]
  },
  {
   "cell_type": "code",
   "execution_count": 3,
   "metadata": {},
   "outputs": [
    {
     "name": "stdout",
     "output_type": "stream",
     "text": [
      "track_genre\n",
      "acoustic             1000\n",
      "punk-rock            1000\n",
      "progressive-house    1000\n",
      "power-pop            1000\n",
      "pop                  1000\n",
      "                     ... \n",
      "folk                 1000\n",
      "emo                  1000\n",
      "electronic           1000\n",
      "electro              1000\n",
      "world-music          1000\n",
      "Name: count, Length: 114, dtype: int64\n"
     ]
    }
   ],
   "source": [
    "tracks_genre = tracks['track_genre'].value_counts()\n",
    "print(tracks_genre)"
   ]
  },
  {
   "cell_type": "code",
   "execution_count": 8,
   "metadata": {},
   "outputs": [
    {
     "data": {
      "text/plain": [
       "114"
      ]
     },
     "execution_count": 8,
     "metadata": {},
     "output_type": "execute_result"
    }
   ],
   "source": [
    "len(tracks_genre)"
   ]
  },
  {
   "cell_type": "markdown",
   "metadata": {},
   "source": [
    "<span style=\"color:#FF4E68;\"><b>Artist analysis"
   ]
  },
  {
   "cell_type": "code",
   "execution_count": 5,
   "metadata": {},
   "outputs": [
    {
     "name": "stdout",
     "output_type": "stream",
     "text": [
      "artists\n",
      "The Beatles                                                                 279\n",
      "George Jones                                                                271\n",
      "Stevie Wonder                                                               236\n",
      "Linkin Park                                                                 224\n",
      "Ella Fitzgerald                                                             222\n",
      "                                                                           ... \n",
      "Automatic Tasty                                                               1\n",
      "o9                                                                            1\n",
      "Pyotr Ilyich Tchaikovsky;National Philharmonic Orchestra;Richard Bonynge      1\n",
      "tstewart;Ólafur Arnalds                                                       1\n",
      "Jesus Culture                                                                 1\n",
      "Name: count, Length: 31437, dtype: int64\n"
     ]
    }
   ],
   "source": [
    "artists_count = tracks[\"artists\"].value_counts()\n",
    "print(artists_count)"
   ]
  },
  {
   "cell_type": "code",
   "execution_count": null,
   "metadata": {},
   "outputs": [],
   "source": [
    "artists_count.head(5)"
   ]
  },
  {
   "cell_type": "markdown",
   "metadata": {},
   "source": [
    "<span style=\"color:#FF4E68;\"><b>Convert artists count into DF so we can filter by counts. Feel free to change the number to filter. it does not change the df and 'save' over if you go to only say 100, then back down to 20"
   ]
  },
  {
   "cell_type": "code",
   "execution_count": 9,
   "metadata": {},
   "outputs": [
    {
     "name": "stdout",
     "output_type": "stream",
     "text": [
      "                           artists  count\n",
      "0                      The Beatles    279\n",
      "1                     George Jones    271\n",
      "2                    Stevie Wonder    236\n",
      "3                      Linkin Park    224\n",
      "4                  Ella Fitzgerald    222\n",
      "5                    Prateek Kuhad    217\n",
      "6                             Feid    202\n",
      "7                      Chuck Berry    190\n",
      "8                  Håkan Hellström    183\n",
      "9                      OneRepublic    181\n",
      "10                  The Beach Boys    176\n",
      "11               my little airport    171\n",
      "12                   Elvis Presley    169\n",
      "13               Charlie Brown Jr.    169\n",
      "14           Red Hot Chili Peppers    159\n",
      "15                     Bryan Adams    157\n",
      "16                         Scooter    155\n",
      "17                    Daddy Yankee    154\n",
      "18                  Arctic Monkeys    152\n",
      "19                             BTS    151\n",
      "20                     Norah Jones    150\n",
      "21                     The Prophet    145\n",
      "22                   Hank Williams    140\n",
      "23                       Glee Cast    139\n",
      "24                        Don Omar    137\n",
      "25                     Vybz Kartel    128\n",
      "26                 Los Prisioneros    126\n",
      "27                       CoComelon    122\n",
      "28                      Anupam Roy    121\n",
      "29                   Seiko Matsuda    118\n",
      "30                       Burna Boy    116\n",
      "31                          Weezer    111\n",
      "32                     Dean Martin    110\n",
      "33                 Germaine Franco    106\n",
      "34                      Rob Zombie    106\n",
      "35  Hank Williams;Drifting Cowboys    105\n",
      "36                  Marilyn Manson    105\n",
      "37                        J Balvin    104\n",
      "38                  Eikichi Yazawa    103\n",
      "39                   Nat King Cole    102\n",
      "40                      Eason Chan    101\n"
     ]
    }
   ],
   "source": [
    "# Convert the Series into a DataFrame and rename columns\n",
    "artist_counts_df = artists_count.reset_index()\n",
    "artist_counts_df.columns = [\"artists\", \"count\"]  # Naming the columns\n",
    "\n",
    "# Filter for artists appearing 20 or more times\n",
    "filtered_artists_count = artist_counts_df[artist_counts_df[\"count\"] >= 100]\n",
    "\n",
    "# Display the filtered DataFrame\n",
    "print(filtered_artists_count)"
   ]
  },
  {
   "cell_type": "code",
   "execution_count": null,
   "metadata": {},
   "outputs": [],
   "source": [
    "tracks.dtypes"
   ]
  },
  {
   "cell_type": "markdown",
   "metadata": {},
   "source": [
    "<span style=\"color:#FF4E68;\"><b>see the unique genre names"
   ]
  },
  {
   "cell_type": "code",
   "execution_count": 10,
   "metadata": {},
   "outputs": [
    {
     "name": "stdout",
     "output_type": "stream",
     "text": [
      "['acoustic' 'afrobeat' 'alt-rock' 'alternative' 'ambient' 'anime'\n",
      " 'black-metal' 'bluegrass' 'blues' 'brazil' 'breakbeat' 'british'\n",
      " 'cantopop' 'chicago-house' 'children' 'chill' 'classical' 'club' 'comedy'\n",
      " 'country' 'dance' 'dancehall' 'death-metal' 'deep-house' 'detroit-techno'\n",
      " 'disco' 'disney' 'drum-and-bass' 'dub' 'dubstep' 'edm' 'electro'\n",
      " 'electronic' 'emo' 'folk' 'forro' 'french' 'funk' 'garage' 'german'\n",
      " 'gospel' 'goth' 'grindcore' 'groove' 'grunge' 'guitar' 'happy'\n",
      " 'hard-rock' 'hardcore' 'hardstyle' 'heavy-metal' 'hip-hop' 'honky-tonk'\n",
      " 'house' 'idm' 'indian' 'indie-pop' 'indie' 'industrial' 'iranian'\n",
      " 'j-dance' 'j-idol' 'j-pop' 'j-rock' 'jazz' 'k-pop' 'kids' 'latin'\n",
      " 'latino' 'malay' 'mandopop' 'metal' 'metalcore' 'minimal-techno' 'mpb'\n",
      " 'new-age' 'opera' 'pagode' 'party' 'piano' 'pop-film' 'pop' 'power-pop'\n",
      " 'progressive-house' 'psych-rock' 'punk-rock' 'punk' 'r-n-b' 'reggae'\n",
      " 'reggaeton' 'rock-n-roll' 'rock' 'rockabilly' 'romance' 'sad' 'salsa'\n",
      " 'samba' 'sertanejo' 'show-tunes' 'singer-songwriter' 'ska' 'sleep'\n",
      " 'songwriter' 'soul' 'spanish' 'study' 'swedish' 'synth-pop' 'tango'\n",
      " 'techno' 'trance' 'trip-hop' 'turkish' 'world-music']\n"
     ]
    }
   ],
   "source": [
    "# Get unique track genres\n",
    "unique_genres = tracks[\"track_genre\"].unique()\n",
    "print(unique_genres)"
   ]
  },
  {
   "cell_type": "markdown",
   "metadata": {},
   "source": [
    "<span style=\"color:#FF4E68;\"><b>filter on just EDM as a genre"
   ]
  },
  {
   "cell_type": "code",
   "execution_count": 11,
   "metadata": {},
   "outputs": [],
   "source": [
    "# Define a list of EDM-related genres. This will be our subquery from this Kaggle dataset\n",
    "edm_genres = [\"breakbeat\", \"chicago-house\", \"club\", \"dance\", \"dancehall\",\"deep-house\",\"detroit-techno\",\"drum-and-bass\",\n",
    "              \"dub\",\"dubstep\",\"edm\",\"electro\",\"electronic\",\"hardstyle\",\"house\",\"idm\",\"j-dance\",\"minimal-techno\",\"party\",\"progressive-house\",\n",
    "              \"synth-pop\",\"techno\",\"trance\"]\n",
    "\n",
    "#edm_genres = [\"ambient\", \"breakbeat\", \"chicago-house\", \"club\", \"dance\", \"dancehall\",\"deep-house\",\"detroit-techno\",\"drum-and-bass\",\n",
    "#              \"dub\",\"dubstep\",\"edm\",\"electro\",\"electronic\",\"hardstyle\",\"house\",\"idm\",\"j-dance\",\"minimal-techno\",\"party\",\"progressive-house\",\n",
    "#              \"synth-pop\",\"techno\",\"trance\"]"
   ]
  },
  {
   "cell_type": "code",
   "execution_count": 12,
   "metadata": {},
   "outputs": [
    {
     "ename": "NameError",
     "evalue": "name 'edm_tracks' is not defined",
     "output_type": "error",
     "traceback": [
      "\u001b[1;31m---------------------------------------------------------------------------\u001b[0m",
      "\u001b[1;31mNameError\u001b[0m                                 Traceback (most recent call last)",
      "Cell \u001b[1;32mIn[12], line 1\u001b[0m\n\u001b[1;32m----> 1\u001b[0m \u001b[38;5;28mprint\u001b[39m(\u001b[43medm_tracks\u001b[49m[\u001b[38;5;124m\"\u001b[39m\u001b[38;5;124mtrack_genre\u001b[39m\u001b[38;5;124m\"\u001b[39m]\u001b[38;5;241m.\u001b[39munique())\n",
      "\u001b[1;31mNameError\u001b[0m: name 'edm_tracks' is not defined"
     ]
    }
   ],
   "source": [
    "print(edm_tracks[\"track_genre\"].unique())"
   ]
  },
  {
   "cell_type": "code",
   "execution_count": null,
   "metadata": {},
   "outputs": [],
   "source": [
    "# Filter the DataFrame to only include these genres\n",
    "edm_tracks = tracks[tracks[\"track_genre\"].isin(edm_genres)]\n",
    "print(edm_tracks.head(10))"
   ]
  },
  {
   "cell_type": "markdown",
   "metadata": {},
   "source": [
    "<span style=\"color:#FF4E68;\"><b>Future Subquery analysis:"
   ]
  },
  {
   "cell_type": "code",
   "execution_count": 38,
   "metadata": {},
   "outputs": [],
   "source": [
    "# Filter for any genre that contains \"house\", \"techno\", etc.\n",
    "\n",
    "#edm_tracks = tracks[tracks[\"track_genre\"].str.contains(\"electronic|house|idm|techno|trance|dubstep\", case=False, na=False)]\n",
    "\n",
    "#print(edm_tracks.head())"
   ]
  },
  {
   "cell_type": "code",
   "execution_count": 22,
   "metadata": {},
   "outputs": [],
   "source": [
    "# Filter the DataFrame to only include artists appearing at least 5 times\n",
    "#artists_count_filtered = tracks[tracks[\"artists\"].isin(tracks[tracks >= 5].index)]\n",
    "\n",
    "# Display the result\n",
    "#print(artists_count_filtered)"
   ]
  },
  {
   "cell_type": "markdown",
   "metadata": {},
   "source": [
    "#### <span style=\"color:#1ED760;\"><b>Happiness Datasets 02/11/2025</b></span>\n"
   ]
  },
  {
   "cell_type": "markdown",
   "metadata": {},
   "source": [
    "<span style=\"color:#FF4E68;\"><b>Lets get our happiness dataset</b></span>"
   ]
  },
  {
   "cell_type": "code",
   "execution_count": 6,
   "metadata": {},
   "outputs": [],
   "source": [
    "# get dataset\n",
    "import pandas as pd\n",
    "worldHappy = pd.read_csv('https://github.com/eadamsRU/Independent_Study/raw/refs/heads/main/World-happiness-report-2024.csv')\n"
   ]
  },
  {
   "cell_type": "code",
   "execution_count": 7,
   "metadata": {},
   "outputs": [
    {
     "data": {
      "text/html": [
       "<div>\n",
       "<style scoped>\n",
       "    .dataframe tbody tr th:only-of-type {\n",
       "        vertical-align: middle;\n",
       "    }\n",
       "\n",
       "    .dataframe tbody tr th {\n",
       "        vertical-align: top;\n",
       "    }\n",
       "\n",
       "    .dataframe thead th {\n",
       "        text-align: right;\n",
       "    }\n",
       "</style>\n",
       "<table border=\"1\" class=\"dataframe\">\n",
       "  <thead>\n",
       "    <tr style=\"text-align: right;\">\n",
       "      <th></th>\n",
       "      <th>Country name</th>\n",
       "      <th>Regional indicator</th>\n",
       "      <th>Ladder score</th>\n",
       "      <th>upperwhisker</th>\n",
       "      <th>lowerwhisker</th>\n",
       "      <th>Log GDP per capita</th>\n",
       "      <th>Social support</th>\n",
       "      <th>Healthy life expectancy</th>\n",
       "      <th>Freedom to make life choices</th>\n",
       "      <th>Generosity</th>\n",
       "      <th>Perceptions of corruption</th>\n",
       "      <th>Dystopia + residual</th>\n",
       "    </tr>\n",
       "  </thead>\n",
       "  <tbody>\n",
       "    <tr>\n",
       "      <th>0</th>\n",
       "      <td>Finland</td>\n",
       "      <td>Western Europe</td>\n",
       "      <td>7.741</td>\n",
       "      <td>7.815</td>\n",
       "      <td>7.667</td>\n",
       "      <td>1.844</td>\n",
       "      <td>1.572</td>\n",
       "      <td>0.695</td>\n",
       "      <td>0.859</td>\n",
       "      <td>0.142</td>\n",
       "      <td>0.546</td>\n",
       "      <td>2.082</td>\n",
       "    </tr>\n",
       "    <tr>\n",
       "      <th>1</th>\n",
       "      <td>Denmark</td>\n",
       "      <td>Western Europe</td>\n",
       "      <td>7.583</td>\n",
       "      <td>7.665</td>\n",
       "      <td>7.500</td>\n",
       "      <td>1.908</td>\n",
       "      <td>1.520</td>\n",
       "      <td>0.699</td>\n",
       "      <td>0.823</td>\n",
       "      <td>0.204</td>\n",
       "      <td>0.548</td>\n",
       "      <td>1.881</td>\n",
       "    </tr>\n",
       "    <tr>\n",
       "      <th>2</th>\n",
       "      <td>Iceland</td>\n",
       "      <td>Western Europe</td>\n",
       "      <td>7.525</td>\n",
       "      <td>7.618</td>\n",
       "      <td>7.433</td>\n",
       "      <td>1.881</td>\n",
       "      <td>1.617</td>\n",
       "      <td>0.718</td>\n",
       "      <td>0.819</td>\n",
       "      <td>0.258</td>\n",
       "      <td>0.182</td>\n",
       "      <td>2.050</td>\n",
       "    </tr>\n",
       "    <tr>\n",
       "      <th>3</th>\n",
       "      <td>Sweden</td>\n",
       "      <td>Western Europe</td>\n",
       "      <td>7.344</td>\n",
       "      <td>7.422</td>\n",
       "      <td>7.267</td>\n",
       "      <td>1.878</td>\n",
       "      <td>1.501</td>\n",
       "      <td>0.724</td>\n",
       "      <td>0.838</td>\n",
       "      <td>0.221</td>\n",
       "      <td>0.524</td>\n",
       "      <td>1.658</td>\n",
       "    </tr>\n",
       "    <tr>\n",
       "      <th>4</th>\n",
       "      <td>Israel</td>\n",
       "      <td>Middle East and North Africa</td>\n",
       "      <td>7.341</td>\n",
       "      <td>7.405</td>\n",
       "      <td>7.277</td>\n",
       "      <td>1.803</td>\n",
       "      <td>1.513</td>\n",
       "      <td>0.740</td>\n",
       "      <td>0.641</td>\n",
       "      <td>0.153</td>\n",
       "      <td>0.193</td>\n",
       "      <td>2.298</td>\n",
       "    </tr>\n",
       "  </tbody>\n",
       "</table>\n",
       "</div>"
      ],
      "text/plain": [
       "  Country name            Regional indicator  Ladder score  upperwhisker  \\\n",
       "0      Finland                Western Europe         7.741         7.815   \n",
       "1      Denmark                Western Europe         7.583         7.665   \n",
       "2      Iceland                Western Europe         7.525         7.618   \n",
       "3       Sweden                Western Europe         7.344         7.422   \n",
       "4       Israel  Middle East and North Africa         7.341         7.405   \n",
       "\n",
       "   lowerwhisker  Log GDP per capita  Social support  Healthy life expectancy  \\\n",
       "0         7.667               1.844           1.572                    0.695   \n",
       "1         7.500               1.908           1.520                    0.699   \n",
       "2         7.433               1.881           1.617                    0.718   \n",
       "3         7.267               1.878           1.501                    0.724   \n",
       "4         7.277               1.803           1.513                    0.740   \n",
       "\n",
       "   Freedom to make life choices  Generosity  Perceptions of corruption  \\\n",
       "0                         0.859       0.142                      0.546   \n",
       "1                         0.823       0.204                      0.548   \n",
       "2                         0.819       0.258                      0.182   \n",
       "3                         0.838       0.221                      0.524   \n",
       "4                         0.641       0.153                      0.193   \n",
       "\n",
       "   Dystopia + residual  \n",
       "0                2.082  \n",
       "1                1.881  \n",
       "2                2.050  \n",
       "3                1.658  \n",
       "4                2.298  "
      ]
     },
     "execution_count": 7,
     "metadata": {},
     "output_type": "execute_result"
    }
   ],
   "source": [
    "worldHappy.head(5)"
   ]
  },
  {
   "cell_type": "markdown",
   "metadata": {},
   "source": [
    "<span style=\"color:#FF4E68;\"><b>We need to subquery this to just focus on Europe. We can also create custom clusters/use the Region indicator already in this dataset to help create more insight and analysis that way.</b></span>"
   ]
  },
  {
   "cell_type": "markdown",
   "metadata": {},
   "source": [
    "<span style=\"color:#FF4E68;\"><b>Data Analysis</b></span>"
   ]
  },
  {
   "cell_type": "markdown",
   "metadata": {},
   "source": [
    "<span style=\"color:#FF4E68;\"><b>Future subquery Analysis</b></span>"
   ]
  },
  {
   "cell_type": "markdown",
   "metadata": {},
   "source": [
    "### <span style=\"color:#1DB954;\"><b>02/24/2025 Youtube Datasets</b></span>\n"
   ]
  },
  {
   "cell_type": "markdown",
   "metadata": {},
   "source": [
    "Using a youtube streaming playlist to test the location aspect of this study until I can find one with Spotify"
   ]
  },
  {
   "cell_type": "markdown",
   "metadata": {},
   "source": [
    "Had to change the encoding on this to latin1 to read in what I assume were certain accents"
   ]
  },
  {
   "cell_type": "code",
   "execution_count": 6,
   "metadata": {},
   "outputs": [],
   "source": [
    "# get dataset\n",
    "import pandas as pd\n",
    "youtube = pd.read_csv('https://github.com/eadamsRU/Independent_Study/raw/refs/heads/main/Global%20YouTube%20Statistics.csv',encoding='latin1')"
   ]
  },
  {
   "cell_type": "code",
   "execution_count": 7,
   "metadata": {},
   "outputs": [
    {
     "data": {
      "text/html": [
       "<div>\n",
       "<style scoped>\n",
       "    .dataframe tbody tr th:only-of-type {\n",
       "        vertical-align: middle;\n",
       "    }\n",
       "\n",
       "    .dataframe tbody tr th {\n",
       "        vertical-align: top;\n",
       "    }\n",
       "\n",
       "    .dataframe thead th {\n",
       "        text-align: right;\n",
       "    }\n",
       "</style>\n",
       "<table border=\"1\" class=\"dataframe\">\n",
       "  <thead>\n",
       "    <tr style=\"text-align: right;\">\n",
       "      <th></th>\n",
       "      <th>rank</th>\n",
       "      <th>Youtuber</th>\n",
       "      <th>subscribers</th>\n",
       "      <th>video views</th>\n",
       "      <th>category</th>\n",
       "      <th>Title</th>\n",
       "      <th>uploads</th>\n",
       "      <th>Country</th>\n",
       "      <th>Abbreviation</th>\n",
       "      <th>channel_type</th>\n",
       "      <th>...</th>\n",
       "      <th>subscribers_for_last_30_days</th>\n",
       "      <th>created_year</th>\n",
       "      <th>created_month</th>\n",
       "      <th>created_date</th>\n",
       "      <th>Gross tertiary education enrollment (%)</th>\n",
       "      <th>Population</th>\n",
       "      <th>Unemployment rate</th>\n",
       "      <th>Urban_population</th>\n",
       "      <th>Latitude</th>\n",
       "      <th>Longitude</th>\n",
       "    </tr>\n",
       "  </thead>\n",
       "  <tbody>\n",
       "    <tr>\n",
       "      <th>0</th>\n",
       "      <td>1</td>\n",
       "      <td>T-Series</td>\n",
       "      <td>245000000</td>\n",
       "      <td>2.280000e+11</td>\n",
       "      <td>Music</td>\n",
       "      <td>T-Series</td>\n",
       "      <td>20082</td>\n",
       "      <td>India</td>\n",
       "      <td>IN</td>\n",
       "      <td>Music</td>\n",
       "      <td>...</td>\n",
       "      <td>2000000.0</td>\n",
       "      <td>2006.0</td>\n",
       "      <td>Mar</td>\n",
       "      <td>13.0</td>\n",
       "      <td>28.1</td>\n",
       "      <td>1.366418e+09</td>\n",
       "      <td>5.36</td>\n",
       "      <td>471031528.0</td>\n",
       "      <td>20.593684</td>\n",
       "      <td>78.962880</td>\n",
       "    </tr>\n",
       "    <tr>\n",
       "      <th>1</th>\n",
       "      <td>2</td>\n",
       "      <td>YouTube Movies</td>\n",
       "      <td>170000000</td>\n",
       "      <td>0.000000e+00</td>\n",
       "      <td>Film &amp; Animation</td>\n",
       "      <td>youtubemovies</td>\n",
       "      <td>1</td>\n",
       "      <td>United States</td>\n",
       "      <td>US</td>\n",
       "      <td>Games</td>\n",
       "      <td>...</td>\n",
       "      <td>NaN</td>\n",
       "      <td>2006.0</td>\n",
       "      <td>Mar</td>\n",
       "      <td>5.0</td>\n",
       "      <td>88.2</td>\n",
       "      <td>3.282395e+08</td>\n",
       "      <td>14.70</td>\n",
       "      <td>270663028.0</td>\n",
       "      <td>37.090240</td>\n",
       "      <td>-95.712891</td>\n",
       "    </tr>\n",
       "    <tr>\n",
       "      <th>2</th>\n",
       "      <td>3</td>\n",
       "      <td>MrBeast</td>\n",
       "      <td>166000000</td>\n",
       "      <td>2.836884e+10</td>\n",
       "      <td>Entertainment</td>\n",
       "      <td>MrBeast</td>\n",
       "      <td>741</td>\n",
       "      <td>United States</td>\n",
       "      <td>US</td>\n",
       "      <td>Entertainment</td>\n",
       "      <td>...</td>\n",
       "      <td>8000000.0</td>\n",
       "      <td>2012.0</td>\n",
       "      <td>Feb</td>\n",
       "      <td>20.0</td>\n",
       "      <td>88.2</td>\n",
       "      <td>3.282395e+08</td>\n",
       "      <td>14.70</td>\n",
       "      <td>270663028.0</td>\n",
       "      <td>37.090240</td>\n",
       "      <td>-95.712891</td>\n",
       "    </tr>\n",
       "    <tr>\n",
       "      <th>3</th>\n",
       "      <td>4</td>\n",
       "      <td>Cocomelon - Nursery Rhymes</td>\n",
       "      <td>162000000</td>\n",
       "      <td>1.640000e+11</td>\n",
       "      <td>Education</td>\n",
       "      <td>Cocomelon - Nursery Rhymes</td>\n",
       "      <td>966</td>\n",
       "      <td>United States</td>\n",
       "      <td>US</td>\n",
       "      <td>Education</td>\n",
       "      <td>...</td>\n",
       "      <td>1000000.0</td>\n",
       "      <td>2006.0</td>\n",
       "      <td>Sep</td>\n",
       "      <td>1.0</td>\n",
       "      <td>88.2</td>\n",
       "      <td>3.282395e+08</td>\n",
       "      <td>14.70</td>\n",
       "      <td>270663028.0</td>\n",
       "      <td>37.090240</td>\n",
       "      <td>-95.712891</td>\n",
       "    </tr>\n",
       "    <tr>\n",
       "      <th>4</th>\n",
       "      <td>5</td>\n",
       "      <td>SET India</td>\n",
       "      <td>159000000</td>\n",
       "      <td>1.480000e+11</td>\n",
       "      <td>Shows</td>\n",
       "      <td>SET India</td>\n",
       "      <td>116536</td>\n",
       "      <td>India</td>\n",
       "      <td>IN</td>\n",
       "      <td>Entertainment</td>\n",
       "      <td>...</td>\n",
       "      <td>1000000.0</td>\n",
       "      <td>2006.0</td>\n",
       "      <td>Sep</td>\n",
       "      <td>20.0</td>\n",
       "      <td>28.1</td>\n",
       "      <td>1.366418e+09</td>\n",
       "      <td>5.36</td>\n",
       "      <td>471031528.0</td>\n",
       "      <td>20.593684</td>\n",
       "      <td>78.962880</td>\n",
       "    </tr>\n",
       "  </tbody>\n",
       "</table>\n",
       "<p>5 rows × 28 columns</p>\n",
       "</div>"
      ],
      "text/plain": [
       "   rank                    Youtuber  subscribers   video views  \\\n",
       "0     1                    T-Series    245000000  2.280000e+11   \n",
       "1     2              YouTube Movies    170000000  0.000000e+00   \n",
       "2     3                     MrBeast    166000000  2.836884e+10   \n",
       "3     4  Cocomelon - Nursery Rhymes    162000000  1.640000e+11   \n",
       "4     5                   SET India    159000000  1.480000e+11   \n",
       "\n",
       "           category                       Title  uploads        Country  \\\n",
       "0             Music                    T-Series    20082          India   \n",
       "1  Film & Animation               youtubemovies        1  United States   \n",
       "2     Entertainment                     MrBeast      741  United States   \n",
       "3         Education  Cocomelon - Nursery Rhymes      966  United States   \n",
       "4             Shows                   SET India   116536          India   \n",
       "\n",
       "  Abbreviation   channel_type  ...  subscribers_for_last_30_days  \\\n",
       "0           IN          Music  ...                     2000000.0   \n",
       "1           US          Games  ...                           NaN   \n",
       "2           US  Entertainment  ...                     8000000.0   \n",
       "3           US      Education  ...                     1000000.0   \n",
       "4           IN  Entertainment  ...                     1000000.0   \n",
       "\n",
       "   created_year  created_month  created_date  \\\n",
       "0        2006.0            Mar          13.0   \n",
       "1        2006.0            Mar           5.0   \n",
       "2        2012.0            Feb          20.0   \n",
       "3        2006.0            Sep           1.0   \n",
       "4        2006.0            Sep          20.0   \n",
       "\n",
       "   Gross tertiary education enrollment (%)    Population  Unemployment rate  \\\n",
       "0                                     28.1  1.366418e+09               5.36   \n",
       "1                                     88.2  3.282395e+08              14.70   \n",
       "2                                     88.2  3.282395e+08              14.70   \n",
       "3                                     88.2  3.282395e+08              14.70   \n",
       "4                                     28.1  1.366418e+09               5.36   \n",
       "\n",
       "   Urban_population   Latitude  Longitude  \n",
       "0       471031528.0  20.593684  78.962880  \n",
       "1       270663028.0  37.090240 -95.712891  \n",
       "2       270663028.0  37.090240 -95.712891  \n",
       "3       270663028.0  37.090240 -95.712891  \n",
       "4       471031528.0  20.593684  78.962880  \n",
       "\n",
       "[5 rows x 28 columns]"
      ]
     },
     "execution_count": 7,
     "metadata": {},
     "output_type": "execute_result"
    }
   ],
   "source": [
    "youtube.head(5)"
   ]
  },
  {
   "cell_type": "markdown",
   "metadata": {},
   "source": [
    "This does have location as both County, and also has saved the longitude and latitude"
   ]
  },
  {
   "cell_type": "markdown",
   "metadata": {},
   "source": [
    "### <span style=\"color:#ffd900\"><b> Resources </b></span>"
   ]
  },
  {
   "cell_type": "markdown",
   "metadata": {},
   "source": [
    "//////////////////////////////// Resources: Datasets, Frameworks, Dev Kits ////////////////////////////////\n",
    "\n",
    "kaggle.com [spotify datasets]\n",
    "    \n",
    "    * https://www.kaggle.com/datasets/maharshipandya/-spotify-tracks-dataset\n",
    "\n",
    "theglobaleconomy.com [European Economic datasets]\n",
    "\n",
    "    * https://www.theglobaleconomy.com/rankings/happiness/Europe/\n",
    "    * https://www.theglobaleconomy.com/download-data.php\n",
    "\n",
    "World happiness index dataset (if In need more metrics to track)\n",
    "\n",
    "    * https://huggingface.co/datasets/nateraw/world-happiness\n",
    "    * https://www.theglobaleconomy.com/rankings/happiness/Europe/\n",
    "\n",
    "Economy\n",
    "* https://www.theglobaleconomy.com/download-data.php\n",
    "\n",
    "spotipy [python framework]\n",
    "\n",
    "https://developer.spotify.com/dashboard [spotify developer dashboard][Need to setup a token/developer account or something]\n",
    "\n",
    "* These would be good to analyze music or audio signals:\n",
    "    * librosa [python framework]\n",
    "    * Madmom [python framework] [music information retrieval(MIR) tasks. Tools for beat tracking, tempo estimation, chord recognition, and more. This would be a great library to dive into if I go into the EDM project]\n",
    "    * SpeechRecognition [python framework]\n",
    "    * Vosk [python framework] [Similar to SpeechRecognition framework but for multiple languages.Offline, open-source]\n",
    "\n",
    "* [Audio Manipulation and Playback]\n",
    "    * PyAudio [python framework] [play and record audio on various platforms]\n",
    "    * Pydub [python framework] [simple tasks like audio manipulation: trimming, splitting, and merging audio files]\n",
    "\n"
   ]
  },
  {
   "cell_type": "markdown",
   "metadata": {},
   "source": [
    "### <span style=\"color:#1DB954;\"><b>Spotify Brand</b></span>\n",
    "\n"
   ]
  },
  {
   "cell_type": "markdown",
   "metadata": {},
   "source": [
    "#### <span style=\"color:#1ED760;\"><b>Spotify resources</b></span>\n"
   ]
  },
  {
   "cell_type": "markdown",
   "metadata": {},
   "source": [
    "color codes: #1DB954, #1ED760"
   ]
  },
  {
   "cell_type": "markdown",
   "metadata": {},
   "source": [
    "apple music color code #FF4E68"
   ]
  },
  {
   "cell_type": "markdown",
   "metadata": {},
   "source": [
    "### <span style=\"color:#3680ff;\"><b>TECH STACK</b></span>\n"
   ]
  },
  {
   "cell_type": "markdown",
   "metadata": {},
   "source": [
    "* python\n",
    "* spotipy\n",
    "* SQL\n",
    "* Adobe Illustrator"
   ]
  },
  {
   "cell_type": "markdown",
   "metadata": {},
   "source": [
    "### Notes"
   ]
  },
  {
   "cell_type": "markdown",
   "metadata": {},
   "source": [
    "End notes from Professor AOK \n",
    "notes from today:\n",
    "\n",
    "in general:\n",
    "\n",
    "for next week: lets shoot for one pager that would propose your study: research questions, hypotheses, data, variables, significance ie why you are doing this; ideally do some preliminary analysis like descriptive stats; share your githubs with me and put info into notebook \n",
    "\n",
    "next week can do mini presentations\n",
    "\n",
    "do get data asap\n",
    "\n",
    "Evan: spotify API\n",
    "\n",
    "Naimish: healthcare and finance\n",
    "\n",
    "Chetan: prediction: market value, like bitcoin"
   ]
  },
  {
   "cell_type": "code",
   "execution_count": 4,
   "metadata": {},
   "outputs": [
    {
     "name": "stdout",
     "output_type": "stream",
     "text": [
      "['Europe map.jpg', 'independent_study_spotipy.ipynb', 'python logo.png', 'Spotify_logo_with_text.svg.png', 'sql logo.png']\n"
     ]
    }
   ],
   "source": [
    "# Run this to check what files exist in my directory\n",
    "import os\n",
    "print(os.listdir())  # Lists all files in the current directory\n"
   ]
  },
  {
   "cell_type": "markdown",
   "metadata": {},
   "source": [
    "Europe map "
   ]
  },
  {
   "cell_type": "markdown",
   "metadata": {},
   "source": [
    "<img src=\"Europe map.jpg\" width=\"300\">\n"
   ]
  },
  {
   "cell_type": "markdown",
   "metadata": {},
   "source": [
    "How to do a write up with an image inside it"
   ]
  },
  {
   "cell_type": "markdown",
   "metadata": {},
   "source": [
    "<div style=\"display: flex; align-items: center;\">\n",
    "    <div>\n",
    "        <p>This is my write-up about the topic, and I want my image next to my words.</p>\n",
    "    </div>\n",
    "    <div>\n",
    "        <img src=\"Europe map.jpg\" width=\"200\">\n",
    "    </div>\n",
    "</div>\n"
   ]
  },
  {
   "cell_type": "markdown",
   "metadata": {},
   "source": [
    "<img src=\"global economy dataset query.jpg\" width=\"1200\">"
   ]
  },
  {
   "cell_type": "code",
   "execution_count": 1,
   "metadata": {},
   "outputs": [],
   "source": [
    "import pandas as pd\n",
    "\n",
    "spotifyTracks = pd.read_csv('SpotifyTracksDataset.csv')"
   ]
  },
  {
   "cell_type": "code",
   "execution_count": null,
   "metadata": {},
   "outputs": [],
   "source": [
    "spotifyTracks.head(5)"
   ]
  }
 ],
 "metadata": {
  "kernelspec": {
   "display_name": "Python 3",
   "language": "python",
   "name": "python3"
  },
  "language_info": {
   "codemirror_mode": {
    "name": "ipython",
    "version": 3
   },
   "file_extension": ".py",
   "mimetype": "text/x-python",
   "name": "python",
   "nbconvert_exporter": "python",
   "pygments_lexer": "ipython3",
   "version": "3.12.0"
  }
 },
 "nbformat": 4,
 "nbformat_minor": 2
}
