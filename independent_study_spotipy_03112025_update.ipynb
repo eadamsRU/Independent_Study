{
 "cells": [
  {
   "cell_type": "markdown",
   "metadata": {},
   "source": [
    "# <span style=\"color:#1DB954;\"><b>Independent Study - 01/28/2025 </b>\n"
   ]
  },
  {
   "cell_type": "markdown",
   "metadata": {},
   "source": [
    "### <b>Class one meeting 01/28/2025, summary</b>"
   ]
  },
  {
   "cell_type": "markdown",
   "metadata": {},
   "source": [
    "/////////////////////////////////////////////////////////////////\n",
    "get data as soon as possible like this week\n",
    "\n",
    "contribute to the literature. know what has been done and try and publish your study in the literature.\n",
    "\n",
    "Build on something that has been done\n",
    "\n",
    "think beyond graduatiuon, pick something you are passionate about\n",
    "\n",
    "anything in data science, think like a final project we did for a class.\n",
    "\n",
    "Something publishable, does something new, does something better\n",
    "\n",
    "//////////////////////////////// End goal ////////////////////////////////////////////////\n",
    "do something new, we contribute something to the literature. connect to the literature and imporve upon it\n",
    "\ta way to do this is to find something somebody else already did and you try and extend it or add a twist to it.\n",
    "\t\tSay they did a study in the US but you want to do something for NJ\n",
    "////////////////////////////////////////////////////////////////////////////////\n",
    "////////////////////////////////////////////////////////////////\n",
    "\n",
    "//////////////////////////////// ?Questions? -Answered- ////////////////////////////////\n",
    "Q: what does our deliverables look like this through the semester?\n",
    "\twhat are you looking for as the semester goes, or is the main thing just to deliver the final project and periodically we have check ins\n",
    "\n",
    "A: ***NEXT WEEK do mini  presentation, research question, hypothesis, variables, all the preliminary analysis [02-04-2025]\n",
    "///////////////////////////////////////////////////////////////////////////"
   ]
  },
  {
   "cell_type": "markdown",
   "metadata": {},
   "source": [
    "### <span style=\"color:#ffd900\"><b>Ideas</b>"
   ]
  },
  {
   "cell_type": "markdown",
   "metadata": {},
   "source": [
    "////////////////////////////////////// Spotify API IDEAS ///////////////////////////////////////////////////\n",
    "\n",
    "* How can I get started on say a playlist genre classification analysis hybrid data science project?\n",
    "* I can do say EDM throughout Europe, analysis of similiarities and differences with favorite genres. Maybe cross examine that with culture of countries or international economies and stuff like that\n",
    "* \n",
    "////////////////////////////////////////////////////////////////////////////////////////////////"
   ]
  },
  {
   "cell_type": "markdown",
   "metadata": {},
   "source": [
    "### <span style=\"color:#ff0000;\"><b>Deadlines/Deliverables</b></span>\n"
   ]
  },
  {
   "cell_type": "markdown",
   "metadata": {},
   "source": [
    "<font color='red'>\n",
    "[02-04-2025]</font>\n",
    "\n",
    "\n",
    "\t*Next week have the datasets, along with mini presentation:\n",
    "\t\tDo some prelimanry analysis, like some descriptive stats\n",
    "\t\t\t* Have a one page writeup to propose this study: \n",
    "\t\t\t\t- research question,\n",
    "\t\t\t\t- hypothesis,\n",
    "\t\t\t\t- what kind of variables,\n",
    "\t\t\t\t- All preliminary analysis, \n",
    "\t\t\t\t- significance, \"why are we doing this?\"\n",
    "\n",
    "\t* Send him the github:\n",
    "\t\t- Have the writeup as a notebook and upload there\n",
    "\t\t- Have theaok as a contributor on that github repo\n",
    "\n",
    "\n",
    "<font color='red'>\n",
    "[03/15/2025-03/23/2025]</font>\n",
    "\n",
    "\t* Early draft around mid semester like around spring break\n",
    "\n",
    "\n",
    "<font color='red'>\n",
    "[05/08/2025-05/14/2025]</font>\n",
    "\n",
    "\t* Final Exam Period\n"
   ]
  },
  {
   "cell_type": "markdown",
   "metadata": {},
   "source": [
    "### <b>One Page Writeup - 01/28/2025</b>\n"
   ]
  },
  {
   "cell_type": "markdown",
   "metadata": {},
   "source": [
    "<font color=#1DB954>\n",
    "<font size=10>\n",
    "<b>ELECTRONIC DANCE MUSIC(EDM) LISTENING TRENDS ACROSS EUROPE USING SPOTIPY(PYTHON LIBRARY - SPOTIFY API)</b>\n",
    "</font></font>\n",
    "\n",
    "<font color=#1ED76>\n",
    "<font size=6>\n",
    "\n",
    "Hypothesis:\n",
    "</font></font>\n",
    "\n",
    "Null Hypothesis (H0)\n",
    "H0: There is no significant difference in EDM track characteristics (tempo, energy, danceability, etc.) across European countries.\n",
    "(This serves as the baseline to test against in statistical analyses.)\n",
    "\n",
    "Alternative Hypothesis (H1)\n",
    "H1: The tempo of popular EDM tracks in European countries correlates with national happiness index scores\n",
    "(Example expectation: Countries with higher happiness scores may prefer more upbeat and energetic EDM music.)\n",
    "\n",
    "Alternative Hypothesis (H2)\n",
    "H2: The frequency of popular EDM tracks being played throughout European countries correlates with Countries GDP per capita\n",
    "(Example expectation: Countries with greater GDP per capita may prefer more EDM music to be played.)\n",
    "\n",
    "\t()\n",
    "<font color=#1ED76>\n",
    "<font size=6>\n",
    "Research question:\n",
    "</font></font>\n",
    "\n",
    "Based on the hypothesis, is this accurate to use as another cross-examing factor to analysis countries national happiness scores?\n",
    "We can also base this on their economic scenarios. Countries listening to happy music could be doing very well. More people listening to upbeat/fast tempo music could mean more parties and celebrations occuring. Odds are if times are tough, people would not be celebrating as much.\n",
    "\n",
    "\n",
    "<font color=#1ED76>\n",
    "<font size=6>\n",
    "\n",
    "Preliminary Analysis:\n",
    "</font></font>\n",
    "\n",
    "Need to get an understanding of how the Spotipy, and other spotify datasets frame this data. How exactly it is measured and what not.\n",
    "\n",
    "\tWhy are we doing this?:\n",
    "\n",
    "* This is just an interesting study to do that is both fun but can give use a new look into how countries can have their overall \"Wellness\" tracked. My hyptothesis is that if a countries economy is doing well odds are people are celebrating privately. \n",
    "* Why something like this is important is to see people, businesses, and other foreign countries trying to forcast where they should allocate their pursuits for the future. Any business person will want to do business with an area that shows great promise.\n",
    "<font color=#1ED76>\n",
    "<font size=6>\n",
    "\n",
    "Variables (include definitions/explanations):\n",
    "</font></font>\n",
    "\n",
    "This below dataset is from https://www.kaggle.com/datasets/maharshipandya/-spotify-tracks-dataset This is just one of the datasets I plan on using. Ideally I want to use something with Spotipy or use Spotify's devolper dashboard, but this is just to give some sort of idea.: \n",
    "\n",
    "* '#'\n",
    "* track_id\n",
    "* artists\n",
    "* album_name\n",
    "* track_name\n",
    "* popularity\n",
    "* duration_ms\n",
    "* explicit\n",
    "* danceability\n",
    "* energy\n",
    "* key\n",
    "* loudness\n",
    "* mode\n",
    "* speechiness\n",
    "* acousticness\n",
    "* instrumentalness\n",
    "* liveness\n",
    "* valence\n",
    "* tempo\n",
    "* time_signature\n",
    "* track_genre\n",
    "\n",
    "I plan to have the focus be on only EDM songs with the dataaset used like the above for the final product.\n",
    "\n",
    "These are some of the variables found from the https://www.theglobaleconomy.com/download-data.php data query for European countries available on the site that I queried for the time period 2008-2025 (Spotifdy was founded in 2008, odds are all of our data from Spotify won't be from this exact date range but just a note.) \n",
    "\n",
    "* Country\n",
    "* Code\n",
    "* Continent\n",
    "* Year\n",
    "* Economic growth\n",
    "* Inflation percent change in the Consumer Price Index\n",
    "* Unemployment Rate\n",
    "* Youth Employment,a ges 15-24\n",
    "* GDP per capita, current U.S. dollars\n",
    "* Labor force, million people\n",
    "* Exchange rate regimes\n",
    "* Self-employment, percent of total employment\n",
    "* Financial development\n",
    "* Innovations index (0-100)\n",
    "* Happiness Index, 0 (unhappy) - 10 (happy)\n",
    "* Average hours worked per year\n",
    "\n",
    "\n",
    "\n",
    "<font color=#1ED76>\n",
    "<font size=6>\n",
    "\n",
    "Descriptive stats:\n",
    "</font></font>\n",
    "\n",
    "[Based on kaggle dataset - \"Spotify Tracks Dataset\" https://www.kaggle.com/datasets/maharshipandya/-spotify-tracks-dataset]\n",
    "* danceability\n",
    "* energy\n",
    "* popularity\n",
    "\n",
    "Economic status\n",
    "* Country GDP per capita\n",
    "\n",
    "National happiness index score rating variable\n",
    "\t[Need to find a dataset for this for all of Europe]\n"
   ]
  },
  {
   "cell_type": "markdown",
   "metadata": {},
   "source": [
    "<b><font color=#FF4E68>Why this is important?</font></b>\n",
    "\n",
    "* EDM festivals; for looking at which cities they should prioritize to host their events.\n",
    "* Marketing: Can use this to forecast trends in the EDM community and now when and where to market to around Europe.\n",
    "* \n",
    "\n"
   ]
  },
  {
   "cell_type": "markdown",
   "metadata": {},
   "source": [
    "### <span style=\"color:#1DB954;\"><b>Datasets/Preparation</b></span>\n",
    "\n"
   ]
  },
  {
   "cell_type": "markdown",
   "metadata": {},
   "source": [
    "#### <span style=\"color:#1ED760;\"><b>Spotify Datasets</b></span>\n"
   ]
  },
  {
   "cell_type": "markdown",
   "metadata": {},
   "source": [
    "<span style=\"color:#FF4E68;\"><b>Lets get our spotify dataset"
   ]
  },
  {
   "cell_type": "code",
   "execution_count": 1,
   "metadata": {},
   "outputs": [],
   "source": [
    "# get dataset\n",
    "import pandas as pd\n",
    "tracks = pd.read_csv('https://github.com/eadamsRU/Independent_Study/raw/refs/heads/main/SpotifyTracksDataset.csv')\n"
   ]
  },
  {
   "cell_type": "code",
   "execution_count": 2,
   "metadata": {},
   "outputs": [
    {
     "data": {
      "text/html": [
       "<div>\n",
       "<style scoped>\n",
       "    .dataframe tbody tr th:only-of-type {\n",
       "        vertical-align: middle;\n",
       "    }\n",
       "\n",
       "    .dataframe tbody tr th {\n",
       "        vertical-align: top;\n",
       "    }\n",
       "\n",
       "    .dataframe thead th {\n",
       "        text-align: right;\n",
       "    }\n",
       "</style>\n",
       "<table border=\"1\" class=\"dataframe\">\n",
       "  <thead>\n",
       "    <tr style=\"text-align: right;\">\n",
       "      <th></th>\n",
       "      <th>Unnamed: 0</th>\n",
       "      <th>track_id</th>\n",
       "      <th>artists</th>\n",
       "      <th>album_name</th>\n",
       "      <th>track_name</th>\n",
       "      <th>popularity</th>\n",
       "      <th>duration_ms</th>\n",
       "      <th>explicit</th>\n",
       "      <th>danceability</th>\n",
       "      <th>energy</th>\n",
       "      <th>...</th>\n",
       "      <th>loudness</th>\n",
       "      <th>mode</th>\n",
       "      <th>speechiness</th>\n",
       "      <th>acousticness</th>\n",
       "      <th>instrumentalness</th>\n",
       "      <th>liveness</th>\n",
       "      <th>valence</th>\n",
       "      <th>tempo</th>\n",
       "      <th>time_signature</th>\n",
       "      <th>track_genre</th>\n",
       "    </tr>\n",
       "  </thead>\n",
       "  <tbody>\n",
       "    <tr>\n",
       "      <th>0</th>\n",
       "      <td>0</td>\n",
       "      <td>5SuOikwiRyPMVoIQDJUgSV</td>\n",
       "      <td>Gen Hoshino</td>\n",
       "      <td>Comedy</td>\n",
       "      <td>Comedy</td>\n",
       "      <td>73</td>\n",
       "      <td>230666</td>\n",
       "      <td>False</td>\n",
       "      <td>0.676</td>\n",
       "      <td>0.4610</td>\n",
       "      <td>...</td>\n",
       "      <td>-6.746</td>\n",
       "      <td>0</td>\n",
       "      <td>0.1430</td>\n",
       "      <td>0.0322</td>\n",
       "      <td>0.000001</td>\n",
       "      <td>0.3580</td>\n",
       "      <td>0.715</td>\n",
       "      <td>87.917</td>\n",
       "      <td>4</td>\n",
       "      <td>acoustic</td>\n",
       "    </tr>\n",
       "    <tr>\n",
       "      <th>1</th>\n",
       "      <td>1</td>\n",
       "      <td>4qPNDBW1i3p13qLCt0Ki3A</td>\n",
       "      <td>Ben Woodward</td>\n",
       "      <td>Ghost (Acoustic)</td>\n",
       "      <td>Ghost - Acoustic</td>\n",
       "      <td>55</td>\n",
       "      <td>149610</td>\n",
       "      <td>False</td>\n",
       "      <td>0.420</td>\n",
       "      <td>0.1660</td>\n",
       "      <td>...</td>\n",
       "      <td>-17.235</td>\n",
       "      <td>1</td>\n",
       "      <td>0.0763</td>\n",
       "      <td>0.9240</td>\n",
       "      <td>0.000006</td>\n",
       "      <td>0.1010</td>\n",
       "      <td>0.267</td>\n",
       "      <td>77.489</td>\n",
       "      <td>4</td>\n",
       "      <td>acoustic</td>\n",
       "    </tr>\n",
       "    <tr>\n",
       "      <th>2</th>\n",
       "      <td>2</td>\n",
       "      <td>1iJBSr7s7jYXzM8EGcbK5b</td>\n",
       "      <td>Ingrid Michaelson;ZAYN</td>\n",
       "      <td>To Begin Again</td>\n",
       "      <td>To Begin Again</td>\n",
       "      <td>57</td>\n",
       "      <td>210826</td>\n",
       "      <td>False</td>\n",
       "      <td>0.438</td>\n",
       "      <td>0.3590</td>\n",
       "      <td>...</td>\n",
       "      <td>-9.734</td>\n",
       "      <td>1</td>\n",
       "      <td>0.0557</td>\n",
       "      <td>0.2100</td>\n",
       "      <td>0.000000</td>\n",
       "      <td>0.1170</td>\n",
       "      <td>0.120</td>\n",
       "      <td>76.332</td>\n",
       "      <td>4</td>\n",
       "      <td>acoustic</td>\n",
       "    </tr>\n",
       "    <tr>\n",
       "      <th>3</th>\n",
       "      <td>3</td>\n",
       "      <td>6lfxq3CG4xtTiEg7opyCyx</td>\n",
       "      <td>Kina Grannis</td>\n",
       "      <td>Crazy Rich Asians (Original Motion Picture Sou...</td>\n",
       "      <td>Can't Help Falling In Love</td>\n",
       "      <td>71</td>\n",
       "      <td>201933</td>\n",
       "      <td>False</td>\n",
       "      <td>0.266</td>\n",
       "      <td>0.0596</td>\n",
       "      <td>...</td>\n",
       "      <td>-18.515</td>\n",
       "      <td>1</td>\n",
       "      <td>0.0363</td>\n",
       "      <td>0.9050</td>\n",
       "      <td>0.000071</td>\n",
       "      <td>0.1320</td>\n",
       "      <td>0.143</td>\n",
       "      <td>181.740</td>\n",
       "      <td>3</td>\n",
       "      <td>acoustic</td>\n",
       "    </tr>\n",
       "    <tr>\n",
       "      <th>4</th>\n",
       "      <td>4</td>\n",
       "      <td>5vjLSffimiIP26QG5WcN2K</td>\n",
       "      <td>Chord Overstreet</td>\n",
       "      <td>Hold On</td>\n",
       "      <td>Hold On</td>\n",
       "      <td>82</td>\n",
       "      <td>198853</td>\n",
       "      <td>False</td>\n",
       "      <td>0.618</td>\n",
       "      <td>0.4430</td>\n",
       "      <td>...</td>\n",
       "      <td>-9.681</td>\n",
       "      <td>1</td>\n",
       "      <td>0.0526</td>\n",
       "      <td>0.4690</td>\n",
       "      <td>0.000000</td>\n",
       "      <td>0.0829</td>\n",
       "      <td>0.167</td>\n",
       "      <td>119.949</td>\n",
       "      <td>4</td>\n",
       "      <td>acoustic</td>\n",
       "    </tr>\n",
       "  </tbody>\n",
       "</table>\n",
       "<p>5 rows × 21 columns</p>\n",
       "</div>"
      ],
      "text/plain": [
       "   Unnamed: 0                track_id                 artists  \\\n",
       "0           0  5SuOikwiRyPMVoIQDJUgSV             Gen Hoshino   \n",
       "1           1  4qPNDBW1i3p13qLCt0Ki3A            Ben Woodward   \n",
       "2           2  1iJBSr7s7jYXzM8EGcbK5b  Ingrid Michaelson;ZAYN   \n",
       "3           3  6lfxq3CG4xtTiEg7opyCyx            Kina Grannis   \n",
       "4           4  5vjLSffimiIP26QG5WcN2K        Chord Overstreet   \n",
       "\n",
       "                                          album_name  \\\n",
       "0                                             Comedy   \n",
       "1                                   Ghost (Acoustic)   \n",
       "2                                     To Begin Again   \n",
       "3  Crazy Rich Asians (Original Motion Picture Sou...   \n",
       "4                                            Hold On   \n",
       "\n",
       "                   track_name  popularity  duration_ms  explicit  \\\n",
       "0                      Comedy          73       230666     False   \n",
       "1            Ghost - Acoustic          55       149610     False   \n",
       "2              To Begin Again          57       210826     False   \n",
       "3  Can't Help Falling In Love          71       201933     False   \n",
       "4                     Hold On          82       198853     False   \n",
       "\n",
       "   danceability  energy  ...  loudness  mode  speechiness  acousticness  \\\n",
       "0         0.676  0.4610  ...    -6.746     0       0.1430        0.0322   \n",
       "1         0.420  0.1660  ...   -17.235     1       0.0763        0.9240   \n",
       "2         0.438  0.3590  ...    -9.734     1       0.0557        0.2100   \n",
       "3         0.266  0.0596  ...   -18.515     1       0.0363        0.9050   \n",
       "4         0.618  0.4430  ...    -9.681     1       0.0526        0.4690   \n",
       "\n",
       "   instrumentalness  liveness  valence    tempo  time_signature  track_genre  \n",
       "0          0.000001    0.3580    0.715   87.917               4     acoustic  \n",
       "1          0.000006    0.1010    0.267   77.489               4     acoustic  \n",
       "2          0.000000    0.1170    0.120   76.332               4     acoustic  \n",
       "3          0.000071    0.1320    0.143  181.740               3     acoustic  \n",
       "4          0.000000    0.0829    0.167  119.949               4     acoustic  \n",
       "\n",
       "[5 rows x 21 columns]"
      ]
     },
     "execution_count": 2,
     "metadata": {},
     "output_type": "execute_result"
    }
   ],
   "source": [
    "tracks.head(5)"
   ]
  },
  {
   "cell_type": "code",
   "execution_count": 13,
   "metadata": {},
   "outputs": [
    {
     "data": {
      "text/plain": [
       "Unnamed: 0            int64\n",
       "track_id             object\n",
       "artists              object\n",
       "album_name           object\n",
       "track_name           object\n",
       "popularity            int64\n",
       "duration_ms           int64\n",
       "explicit               bool\n",
       "danceability        float64\n",
       "energy              float64\n",
       "key                   int64\n",
       "loudness            float64\n",
       "mode                  int64\n",
       "speechiness         float64\n",
       "acousticness        float64\n",
       "instrumentalness    float64\n",
       "liveness            float64\n",
       "valence             float64\n",
       "tempo               float64\n",
       "time_signature        int64\n",
       "track_genre          object\n",
       "dtype: object"
      ]
     },
     "execution_count": 13,
     "metadata": {},
     "output_type": "execute_result"
    }
   ],
   "source": [
    "tracks.dtypes"
   ]
  },
  {
   "cell_type": "markdown",
   "metadata": {},
   "source": [
    "<span style=\"color:#FF4E68;\"><b>Genre analysis"
   ]
  },
  {
   "cell_type": "code",
   "execution_count": 3,
   "metadata": {},
   "outputs": [
    {
     "name": "stdout",
     "output_type": "stream",
     "text": [
      "track_genre\n",
      "acoustic             1000\n",
      "punk-rock            1000\n",
      "progressive-house    1000\n",
      "power-pop            1000\n",
      "pop                  1000\n",
      "                     ... \n",
      "folk                 1000\n",
      "emo                  1000\n",
      "electronic           1000\n",
      "electro              1000\n",
      "world-music          1000\n",
      "Name: count, Length: 114, dtype: int64\n"
     ]
    }
   ],
   "source": [
    "tracks_genre = tracks['track_genre'].value_counts()\n",
    "print(tracks_genre)"
   ]
  },
  {
   "cell_type": "code",
   "execution_count": 8,
   "metadata": {},
   "outputs": [
    {
     "data": {
      "text/plain": [
       "114"
      ]
     },
     "execution_count": 8,
     "metadata": {},
     "output_type": "execute_result"
    }
   ],
   "source": [
    "len(tracks_genre)"
   ]
  },
  {
   "cell_type": "markdown",
   "metadata": {},
   "source": [
    "<span style=\"color:#FF4E68;\"><b>Artist analysis"
   ]
  },
  {
   "cell_type": "code",
   "execution_count": 5,
   "metadata": {},
   "outputs": [
    {
     "name": "stdout",
     "output_type": "stream",
     "text": [
      "artists\n",
      "The Beatles                                                                 279\n",
      "George Jones                                                                271\n",
      "Stevie Wonder                                                               236\n",
      "Linkin Park                                                                 224\n",
      "Ella Fitzgerald                                                             222\n",
      "                                                                           ... \n",
      "Automatic Tasty                                                               1\n",
      "o9                                                                            1\n",
      "Pyotr Ilyich Tchaikovsky;National Philharmonic Orchestra;Richard Bonynge      1\n",
      "tstewart;Ólafur Arnalds                                                       1\n",
      "Jesus Culture                                                                 1\n",
      "Name: count, Length: 31437, dtype: int64\n"
     ]
    }
   ],
   "source": [
    "artists_count = tracks[\"artists\"].value_counts()\n",
    "print(artists_count)"
   ]
  },
  {
   "cell_type": "code",
   "execution_count": null,
   "metadata": {},
   "outputs": [],
   "source": [
    "artists_count.head(5)"
   ]
  },
  {
   "cell_type": "markdown",
   "metadata": {},
   "source": [
    "<span style=\"color:#FF4E68;\"><b>Convert artists count into DF so we can filter by counts. Feel free to change the number to filter. it does not change the df and 'save' over if you go to only say 100, then back down to 20"
   ]
  },
  {
   "cell_type": "code",
   "execution_count": 9,
   "metadata": {},
   "outputs": [
    {
     "name": "stdout",
     "output_type": "stream",
     "text": [
      "                           artists  count\n",
      "0                      The Beatles    279\n",
      "1                     George Jones    271\n",
      "2                    Stevie Wonder    236\n",
      "3                      Linkin Park    224\n",
      "4                  Ella Fitzgerald    222\n",
      "5                    Prateek Kuhad    217\n",
      "6                             Feid    202\n",
      "7                      Chuck Berry    190\n",
      "8                  Håkan Hellström    183\n",
      "9                      OneRepublic    181\n",
      "10                  The Beach Boys    176\n",
      "11               my little airport    171\n",
      "12                   Elvis Presley    169\n",
      "13               Charlie Brown Jr.    169\n",
      "14           Red Hot Chili Peppers    159\n",
      "15                     Bryan Adams    157\n",
      "16                         Scooter    155\n",
      "17                    Daddy Yankee    154\n",
      "18                  Arctic Monkeys    152\n",
      "19                             BTS    151\n",
      "20                     Norah Jones    150\n",
      "21                     The Prophet    145\n",
      "22                   Hank Williams    140\n",
      "23                       Glee Cast    139\n",
      "24                        Don Omar    137\n",
      "25                     Vybz Kartel    128\n",
      "26                 Los Prisioneros    126\n",
      "27                       CoComelon    122\n",
      "28                      Anupam Roy    121\n",
      "29                   Seiko Matsuda    118\n",
      "30                       Burna Boy    116\n",
      "31                          Weezer    111\n",
      "32                     Dean Martin    110\n",
      "33                 Germaine Franco    106\n",
      "34                      Rob Zombie    106\n",
      "35  Hank Williams;Drifting Cowboys    105\n",
      "36                  Marilyn Manson    105\n",
      "37                        J Balvin    104\n",
      "38                  Eikichi Yazawa    103\n",
      "39                   Nat King Cole    102\n",
      "40                      Eason Chan    101\n"
     ]
    }
   ],
   "source": [
    "# Convert the Series into a DataFrame and rename columns\n",
    "artist_counts_df = artists_count.reset_index()\n",
    "artist_counts_df.columns = [\"artists\", \"count\"]  # Naming the columns\n",
    "\n",
    "# Filter for artists appearing 20 or more times\n",
    "filtered_artists_count = artist_counts_df[artist_counts_df[\"count\"] >= 100]\n",
    "\n",
    "# Display the filtered DataFrame\n",
    "print(filtered_artists_count)"
   ]
  },
  {
   "cell_type": "code",
   "execution_count": null,
   "metadata": {},
   "outputs": [],
   "source": [
    "tracks.dtypes"
   ]
  },
  {
   "cell_type": "markdown",
   "metadata": {},
   "source": [
    "<span style=\"color:#FF4E68;\"><b>see the unique genre names"
   ]
  },
  {
   "cell_type": "code",
   "execution_count": 10,
   "metadata": {},
   "outputs": [
    {
     "name": "stdout",
     "output_type": "stream",
     "text": [
      "['acoustic' 'afrobeat' 'alt-rock' 'alternative' 'ambient' 'anime'\n",
      " 'black-metal' 'bluegrass' 'blues' 'brazil' 'breakbeat' 'british'\n",
      " 'cantopop' 'chicago-house' 'children' 'chill' 'classical' 'club' 'comedy'\n",
      " 'country' 'dance' 'dancehall' 'death-metal' 'deep-house' 'detroit-techno'\n",
      " 'disco' 'disney' 'drum-and-bass' 'dub' 'dubstep' 'edm' 'electro'\n",
      " 'electronic' 'emo' 'folk' 'forro' 'french' 'funk' 'garage' 'german'\n",
      " 'gospel' 'goth' 'grindcore' 'groove' 'grunge' 'guitar' 'happy'\n",
      " 'hard-rock' 'hardcore' 'hardstyle' 'heavy-metal' 'hip-hop' 'honky-tonk'\n",
      " 'house' 'idm' 'indian' 'indie-pop' 'indie' 'industrial' 'iranian'\n",
      " 'j-dance' 'j-idol' 'j-pop' 'j-rock' 'jazz' 'k-pop' 'kids' 'latin'\n",
      " 'latino' 'malay' 'mandopop' 'metal' 'metalcore' 'minimal-techno' 'mpb'\n",
      " 'new-age' 'opera' 'pagode' 'party' 'piano' 'pop-film' 'pop' 'power-pop'\n",
      " 'progressive-house' 'psych-rock' 'punk-rock' 'punk' 'r-n-b' 'reggae'\n",
      " 'reggaeton' 'rock-n-roll' 'rock' 'rockabilly' 'romance' 'sad' 'salsa'\n",
      " 'samba' 'sertanejo' 'show-tunes' 'singer-songwriter' 'ska' 'sleep'\n",
      " 'songwriter' 'soul' 'spanish' 'study' 'swedish' 'synth-pop' 'tango'\n",
      " 'techno' 'trance' 'trip-hop' 'turkish' 'world-music']\n"
     ]
    }
   ],
   "source": [
    "# Get unique track genres\n",
    "unique_genres = tracks[\"track_genre\"].unique()\n",
    "print(unique_genres)"
   ]
  },
  {
   "cell_type": "markdown",
   "metadata": {},
   "source": [
    "<span style=\"color:#FF4E68;\"><b>filter on just EDM as a genre"
   ]
  },
  {
   "cell_type": "code",
   "execution_count": 11,
   "metadata": {},
   "outputs": [],
   "source": [
    "# Define a list of EDM-related genres. This will be our subquery from this Kaggle dataset\n",
    "edm_genres = [\"breakbeat\", \"chicago-house\", \"club\", \"dance\", \"dancehall\",\"deep-house\",\"detroit-techno\",\"drum-and-bass\",\n",
    "              \"dub\",\"dubstep\",\"edm\",\"electro\",\"electronic\",\"hardstyle\",\"house\",\"idm\",\"j-dance\",\"minimal-techno\",\"party\",\"progressive-house\",\n",
    "              \"synth-pop\",\"techno\",\"trance\"]\n",
    "\n",
    "#edm_genres = [\"ambient\", \"breakbeat\", \"chicago-house\", \"club\", \"dance\", \"dancehall\",\"deep-house\",\"detroit-techno\",\"drum-and-bass\",\n",
    "#              \"dub\",\"dubstep\",\"edm\",\"electro\",\"electronic\",\"hardstyle\",\"house\",\"idm\",\"j-dance\",\"minimal-techno\",\"party\",\"progressive-house\",\n",
    "#              \"synth-pop\",\"techno\",\"trance\"]"
   ]
  },
  {
   "cell_type": "markdown",
   "metadata": {},
   "source": [
    "<span style=\"color:#FF4E68;\"><b>Lyrics analysis"
   ]
  },
  {
   "cell_type": "code",
   "execution_count": null,
   "metadata": {},
   "outputs": [],
   "source": [
    "print(edm_tracks[\"track_genre\"].unique())"
   ]
  },
  {
   "cell_type": "code",
   "execution_count": null,
   "metadata": {},
   "outputs": [],
   "source": [
    "# Filter the DataFrame to only include these genres\n",
    "edm_tracks = tracks[tracks[\"track_genre\"].isin(edm_genres)]\n",
    "print(edm_tracks.head(10))"
   ]
  },
  {
   "cell_type": "markdown",
   "metadata": {},
   "source": [
    "<span style=\"color:#FF4E68;\"><b>Future Subquery analysis:"
   ]
  },
  {
   "cell_type": "code",
   "execution_count": 38,
   "metadata": {},
   "outputs": [],
   "source": [
    "# Filter for any genre that contains \"house\", \"techno\", etc.\n",
    "\n",
    "#edm_tracks = tracks[tracks[\"track_genre\"].str.contains(\"electronic|house|idm|techno|trance|dubstep\", case=False, na=False)]\n",
    "\n",
    "#print(edm_tracks.head())"
   ]
  },
  {
   "cell_type": "code",
   "execution_count": 22,
   "metadata": {},
   "outputs": [],
   "source": [
    "# Filter the DataFrame to only include artists appearing at least 5 times\n",
    "#artists_count_filtered = tracks[tracks[\"artists\"].isin(tracks[tracks >= 5].index)]\n",
    "\n",
    "# Display the result\n",
    "#print(artists_count_filtered)"
   ]
  },
  {
   "cell_type": "markdown",
   "metadata": {},
   "source": [
    "#### <span style=\"color:#1ED760;\"><b>Happiness Datasets 02/11/2025</b></span>\n"
   ]
  },
  {
   "cell_type": "markdown",
   "metadata": {},
   "source": [
    "<span style=\"color:#FF4E68;\"><b>Lets get our happiness dataset</b></span>"
   ]
  },
  {
   "cell_type": "code",
   "execution_count": 6,
   "metadata": {},
   "outputs": [],
   "source": [
    "# get dataset\n",
    "import pandas as pd\n",
    "worldHappy = pd.read_csv('https://github.com/eadamsRU/Independent_Study/raw/refs/heads/main/World-happiness-report-2024.csv')\n"
   ]
  },
  {
   "cell_type": "code",
   "execution_count": 7,
   "metadata": {},
   "outputs": [
    {
     "data": {
      "text/html": [
       "<div>\n",
       "<style scoped>\n",
       "    .dataframe tbody tr th:only-of-type {\n",
       "        vertical-align: middle;\n",
       "    }\n",
       "\n",
       "    .dataframe tbody tr th {\n",
       "        vertical-align: top;\n",
       "    }\n",
       "\n",
       "    .dataframe thead th {\n",
       "        text-align: right;\n",
       "    }\n",
       "</style>\n",
       "<table border=\"1\" class=\"dataframe\">\n",
       "  <thead>\n",
       "    <tr style=\"text-align: right;\">\n",
       "      <th></th>\n",
       "      <th>Country name</th>\n",
       "      <th>Regional indicator</th>\n",
       "      <th>Ladder score</th>\n",
       "      <th>upperwhisker</th>\n",
       "      <th>lowerwhisker</th>\n",
       "      <th>Log GDP per capita</th>\n",
       "      <th>Social support</th>\n",
       "      <th>Healthy life expectancy</th>\n",
       "      <th>Freedom to make life choices</th>\n",
       "      <th>Generosity</th>\n",
       "      <th>Perceptions of corruption</th>\n",
       "      <th>Dystopia + residual</th>\n",
       "    </tr>\n",
       "  </thead>\n",
       "  <tbody>\n",
       "    <tr>\n",
       "      <th>0</th>\n",
       "      <td>Finland</td>\n",
       "      <td>Western Europe</td>\n",
       "      <td>7.741</td>\n",
       "      <td>7.815</td>\n",
       "      <td>7.667</td>\n",
       "      <td>1.844</td>\n",
       "      <td>1.572</td>\n",
       "      <td>0.695</td>\n",
       "      <td>0.859</td>\n",
       "      <td>0.142</td>\n",
       "      <td>0.546</td>\n",
       "      <td>2.082</td>\n",
       "    </tr>\n",
       "    <tr>\n",
       "      <th>1</th>\n",
       "      <td>Denmark</td>\n",
       "      <td>Western Europe</td>\n",
       "      <td>7.583</td>\n",
       "      <td>7.665</td>\n",
       "      <td>7.500</td>\n",
       "      <td>1.908</td>\n",
       "      <td>1.520</td>\n",
       "      <td>0.699</td>\n",
       "      <td>0.823</td>\n",
       "      <td>0.204</td>\n",
       "      <td>0.548</td>\n",
       "      <td>1.881</td>\n",
       "    </tr>\n",
       "    <tr>\n",
       "      <th>2</th>\n",
       "      <td>Iceland</td>\n",
       "      <td>Western Europe</td>\n",
       "      <td>7.525</td>\n",
       "      <td>7.618</td>\n",
       "      <td>7.433</td>\n",
       "      <td>1.881</td>\n",
       "      <td>1.617</td>\n",
       "      <td>0.718</td>\n",
       "      <td>0.819</td>\n",
       "      <td>0.258</td>\n",
       "      <td>0.182</td>\n",
       "      <td>2.050</td>\n",
       "    </tr>\n",
       "    <tr>\n",
       "      <th>3</th>\n",
       "      <td>Sweden</td>\n",
       "      <td>Western Europe</td>\n",
       "      <td>7.344</td>\n",
       "      <td>7.422</td>\n",
       "      <td>7.267</td>\n",
       "      <td>1.878</td>\n",
       "      <td>1.501</td>\n",
       "      <td>0.724</td>\n",
       "      <td>0.838</td>\n",
       "      <td>0.221</td>\n",
       "      <td>0.524</td>\n",
       "      <td>1.658</td>\n",
       "    </tr>\n",
       "    <tr>\n",
       "      <th>4</th>\n",
       "      <td>Israel</td>\n",
       "      <td>Middle East and North Africa</td>\n",
       "      <td>7.341</td>\n",
       "      <td>7.405</td>\n",
       "      <td>7.277</td>\n",
       "      <td>1.803</td>\n",
       "      <td>1.513</td>\n",
       "      <td>0.740</td>\n",
       "      <td>0.641</td>\n",
       "      <td>0.153</td>\n",
       "      <td>0.193</td>\n",
       "      <td>2.298</td>\n",
       "    </tr>\n",
       "  </tbody>\n",
       "</table>\n",
       "</div>"
      ],
      "text/plain": [
       "  Country name            Regional indicator  Ladder score  upperwhisker  \\\n",
       "0      Finland                Western Europe         7.741         7.815   \n",
       "1      Denmark                Western Europe         7.583         7.665   \n",
       "2      Iceland                Western Europe         7.525         7.618   \n",
       "3       Sweden                Western Europe         7.344         7.422   \n",
       "4       Israel  Middle East and North Africa         7.341         7.405   \n",
       "\n",
       "   lowerwhisker  Log GDP per capita  Social support  Healthy life expectancy  \\\n",
       "0         7.667               1.844           1.572                    0.695   \n",
       "1         7.500               1.908           1.520                    0.699   \n",
       "2         7.433               1.881           1.617                    0.718   \n",
       "3         7.267               1.878           1.501                    0.724   \n",
       "4         7.277               1.803           1.513                    0.740   \n",
       "\n",
       "   Freedom to make life choices  Generosity  Perceptions of corruption  \\\n",
       "0                         0.859       0.142                      0.546   \n",
       "1                         0.823       0.204                      0.548   \n",
       "2                         0.819       0.258                      0.182   \n",
       "3                         0.838       0.221                      0.524   \n",
       "4                         0.641       0.153                      0.193   \n",
       "\n",
       "   Dystopia + residual  \n",
       "0                2.082  \n",
       "1                1.881  \n",
       "2                2.050  \n",
       "3                1.658  \n",
       "4                2.298  "
      ]
     },
     "execution_count": 7,
     "metadata": {},
     "output_type": "execute_result"
    }
   ],
   "source": [
    "worldHappy.head(5)"
   ]
  },
  {
   "cell_type": "markdown",
   "metadata": {},
   "source": [
    "<span style=\"color:#FF4E68;\"><b>We need to subquery this to just focus on Europe. We can also create custom clusters/use the Region indicator already in this dataset to help create more insight and analysis that way.</b></span>"
   ]
  },
  {
   "cell_type": "markdown",
   "metadata": {},
   "source": [
    "<span style=\"color:#FF4E68;\"><b>Data Analysis</b></span>"
   ]
  },
  {
   "cell_type": "markdown",
   "metadata": {},
   "source": [
    "<span style=\"color:#FF4E68;\"><b>Future subquery Analysis</b></span>"
   ]
  },
  {
   "cell_type": "markdown",
   "metadata": {},
   "source": [
    "### <span style=\"color:#1DB954;\"><b>02/24/2025 Spotify/Youtube/Streaming Datasets</b></span>\n"
   ]
  },
  {
   "cell_type": "markdown",
   "metadata": {},
   "source": [
    "I was looking for more datasets/resources that can provide location datapoints within a spotify dataset. \n",
    "* every noise website. No longer active but had very specific datapoints, one of which was location."
   ]
  },
  {
   "cell_type": "markdown",
   "metadata": {},
   "source": [
    "Using a youtube streaming playlist to test the location aspect of this study until I can find one with Spotify"
   ]
  },
  {
   "cell_type": "markdown",
   "metadata": {},
   "source": [
    "Had to change the encoding on this to latin1 to read in what I assume were certain accents"
   ]
  },
  {
   "cell_type": "code",
   "execution_count": 2,
   "metadata": {},
   "outputs": [],
   "source": [
    "# get dataset\n",
    "import pandas as pd\n",
    "youtube = pd.read_csv('https://github.com/eadamsRU/Independent_Study/raw/refs/heads/main/Global%20YouTube%20Statistics.csv',encoding='latin1')"
   ]
  },
  {
   "cell_type": "code",
   "execution_count": null,
   "metadata": {},
   "outputs": [],
   "source": [
    "youtube.head(5)"
   ]
  },
  {
   "cell_type": "markdown",
   "metadata": {},
   "source": [
    "This does have location as both County, and also has saved the longitude and latitude"
   ]
  },
  {
   "cell_type": "markdown",
   "metadata": {},
   "source": [
    "I can also choose to use streaming services like Netflix, Hulu, Amazon, Disney, etc. to see for geographicial streams as well for the same type of analysis across regions."
   ]
  },
  {
   "cell_type": "markdown",
   "metadata": {},
   "source": [
    "#### <span style=\"color:#1DB954;\"><b>Spotify datasets</b></span>\n"
   ]
  },
  {
   "cell_type": "markdown",
   "metadata": {},
   "source": [
    "There is also this JSON file for spotify information:\n",
    "* This is a splice of the first 1000 rows of this whole dataset as a json file. If using this, need to convert from JSON to a structured dataframe:\n",
    "\n",
    "        * mpd.slice.0-999.json"
   ]
  },
  {
   "cell_type": "markdown",
   "metadata": {},
   "source": [
    "Spotify Tracks Chart Dataset 2014-2022"
   ]
  },
  {
   "cell_type": "code",
   "execution_count": 4,
   "metadata": {},
   "outputs": [],
   "source": [
    "# get dataset\n",
    "import pandas as pd\n",
    "SpotifyCharts = pd.read_csv('https://github.com/eadamsRU/Independent_Study/raw/refs/heads/main/Spotify%20tracks%20chart%20dataset%202014-2022_RANDOM_splice.csv')"
   ]
  },
  {
   "cell_type": "markdown",
   "metadata": {},
   "source": [
    "This DF uses a col 'country' which has abbreviations which I would need to expand upon and make a dictionary for, this way readers can quickly tell where it is all from.\n",
    "\n",
    "    * Need to do how I said on github of condensing the original file to just EDM genres."
   ]
  },
  {
   "cell_type": "code",
   "execution_count": 5,
   "metadata": {},
   "outputs": [
    {
     "data": {
      "text/html": [
       "<div>\n",
       "<style scoped>\n",
       "    .dataframe tbody tr th:only-of-type {\n",
       "        vertical-align: middle;\n",
       "    }\n",
       "\n",
       "    .dataframe tbody tr th {\n",
       "        vertical-align: top;\n",
       "    }\n",
       "\n",
       "    .dataframe thead th {\n",
       "        text-align: right;\n",
       "    }\n",
       "</style>\n",
       "<table border=\"1\" class=\"dataframe\">\n",
       "  <thead>\n",
       "    <tr style=\"text-align: right;\">\n",
       "      <th></th>\n",
       "      <th>date</th>\n",
       "      <th>country</th>\n",
       "      <th>position</th>\n",
       "      <th>streams</th>\n",
       "      <th>track_id</th>\n",
       "      <th>artists</th>\n",
       "      <th>artist_genres</th>\n",
       "      <th>duration</th>\n",
       "      <th>explicit</th>\n",
       "      <th>name</th>\n",
       "    </tr>\n",
       "  </thead>\n",
       "  <tbody>\n",
       "    <tr>\n",
       "      <th>0</th>\n",
       "      <td>2021/04/15</td>\n",
       "      <td>de</td>\n",
       "      <td>82</td>\n",
       "      <td>625718</td>\n",
       "      <td>20IvMlpi4U5RuDnAlXSRiV</td>\n",
       "      <td>['Haftbefehl']</td>\n",
       "      <td>['german hip hop']</td>\n",
       "      <td>198746</td>\n",
       "      <td>False</td>\n",
       "      <td>Crackküche</td>\n",
       "    </tr>\n",
       "    <tr>\n",
       "      <th>1</th>\n",
       "      <td>2019/01/31</td>\n",
       "      <td>jp</td>\n",
       "      <td>171</td>\n",
       "      <td>50896</td>\n",
       "      <td>0V1K6MU0utODk4yNqZKsFv</td>\n",
       "      <td>['Suchmos']</td>\n",
       "      <td>['japanese r&amp;b', 'j-rock', 'japanese soul', 'j...</td>\n",
       "      <td>408320</td>\n",
       "      <td>False</td>\n",
       "      <td>WATER</td>\n",
       "    </tr>\n",
       "    <tr>\n",
       "      <th>2</th>\n",
       "      <td>2018/11/15</td>\n",
       "      <td>tr</td>\n",
       "      <td>59</td>\n",
       "      <td>185439</td>\n",
       "      <td>4qzZm5EIdFurBpDieEmVc9</td>\n",
       "      <td>['Nilipek.']</td>\n",
       "      <td>['turkish singer-songwriter', 'turkish rock']</td>\n",
       "      <td>257142</td>\n",
       "      <td>False</td>\n",
       "      <td>Gözleri Aşka Gülen</td>\n",
       "    </tr>\n",
       "    <tr>\n",
       "      <th>3</th>\n",
       "      <td>2018/11/22</td>\n",
       "      <td>tr</td>\n",
       "      <td>133</td>\n",
       "      <td>111159</td>\n",
       "      <td>4qzZm5EIdFurBpDieEmVc9</td>\n",
       "      <td>['Nilipek.']</td>\n",
       "      <td>['turkish singer-songwriter', 'turkish rock']</td>\n",
       "      <td>257142</td>\n",
       "      <td>False</td>\n",
       "      <td>Gözleri Aşka Gülen</td>\n",
       "    </tr>\n",
       "    <tr>\n",
       "      <th>4</th>\n",
       "      <td>2018/11/29</td>\n",
       "      <td>tr</td>\n",
       "      <td>166</td>\n",
       "      <td>96204</td>\n",
       "      <td>4qzZm5EIdFurBpDieEmVc9</td>\n",
       "      <td>['Nilipek.']</td>\n",
       "      <td>['turkish singer-songwriter', 'turkish rock']</td>\n",
       "      <td>257142</td>\n",
       "      <td>False</td>\n",
       "      <td>Gözleri Aşka Gülen</td>\n",
       "    </tr>\n",
       "  </tbody>\n",
       "</table>\n",
       "</div>"
      ],
      "text/plain": [
       "         date country  position  streams                track_id  \\\n",
       "0  2021/04/15      de        82   625718  20IvMlpi4U5RuDnAlXSRiV   \n",
       "1  2019/01/31      jp       171    50896  0V1K6MU0utODk4yNqZKsFv   \n",
       "2  2018/11/15      tr        59   185439  4qzZm5EIdFurBpDieEmVc9   \n",
       "3  2018/11/22      tr       133   111159  4qzZm5EIdFurBpDieEmVc9   \n",
       "4  2018/11/29      tr       166    96204  4qzZm5EIdFurBpDieEmVc9   \n",
       "\n",
       "          artists                                      artist_genres  \\\n",
       "0  ['Haftbefehl']                                 ['german hip hop']   \n",
       "1     ['Suchmos']  ['japanese r&b', 'j-rock', 'japanese soul', 'j...   \n",
       "2    ['Nilipek.']      ['turkish singer-songwriter', 'turkish rock']   \n",
       "3    ['Nilipek.']      ['turkish singer-songwriter', 'turkish rock']   \n",
       "4    ['Nilipek.']      ['turkish singer-songwriter', 'turkish rock']   \n",
       "\n",
       "   duration  explicit                name  \n",
       "0    198746     False          Crackküche  \n",
       "1    408320     False               WATER  \n",
       "2    257142     False  Gözleri Aşka Gülen  \n",
       "3    257142     False  Gözleri Aşka Gülen  \n",
       "4    257142     False  Gözleri Aşka Gülen  "
      ]
     },
     "execution_count": 5,
     "metadata": {},
     "output_type": "execute_result"
    }
   ],
   "source": [
    "SpotifyCharts.head(5)"
   ]
  },
  {
   "cell_type": "markdown",
   "metadata": {},
   "source": [
    "<span style=\"color:#1ED760;\"><b>Chart Masters\n"
   ]
  },
  {
   "cell_type": "markdown",
   "metadata": {},
   "source": [
    "* https://chartmasters.org/most-streamed-artists-ever-on-spotify/\n",
    "\n",
    "    * This website has info for most streamed artists on Spotify, with a search function to filter on things such as Language, Genre, and Country which can be very useful for this analysis."
   ]
  },
  {
   "cell_type": "markdown",
   "metadata": {},
   "source": [
    "<span style=\"color:#1ED760;\"><b>Spotify Million Playlist Dataset"
   ]
  },
  {
   "cell_type": "markdown",
   "metadata": {},
   "source": [
    "There is a million row dataset that has a lot of current projects using this for analysis with Spotify, the file was too large to upload to Github so I have to find other hosting methods.\n",
    "\n",
    "This includes the following data points, this data set is also a JSON file as default so if I use this I also have to convert to a DF in python from JSON."
   ]
  },
  {
   "cell_type": "markdown",
   "metadata": {},
   "source": [
    "Subset this million playlist, can also do random sample, see if there is a way to make it 50 MBs"
   ]
  },
  {
   "cell_type": "markdown",
   "metadata": {},
   "source": [
    "\"playlists\": [\n",
    "        \n",
    "        {\n",
    "            \"name\": \"Throwbacks\", \n",
    "            \"collaborative\": \"false\", \n",
    "            \"pid\": 0, \n",
    "            \"modified_at\": 1493424000, \n",
    "            \"num_tracks\": 52, \n",
    "            \"num_albums\": 47, \n",
    "            \"num_followers\": 1, \n",
    "            \"tracks\": [\n",
    "                {\n",
    "                    \"pos\": 0, \n",
    "                    \"artist_name\": \"Missy Elliott\", \n",
    "                    \"track_uri\": \"spotify:track:0UaMYEvWZi0ZqiDOoHU3YI\", \n",
    "                    \"artist_uri\": \"spotify:artist:2wIVse2owClT7go1WT98tk\", \n",
    "                    \"track_name\": \"Lose Control (feat. Ciara & Fat Man Scoop)\", \n",
    "                    \"album_uri\": \"spotify:album:6vV5UrXcfyQD1wu4Qo2I9K\", \n",
    "                    \"duration_ms\": 226863, \n",
    "                    \"album_name\": \"The Cookbook\"\n",
    "                }, \n",
    "                {\n",
    "                    \"pos\": 1, \n",
    "                    \"artist_name\": \"Britney Spears\", \n",
    "                    \"track_uri\": \"spotify:track:6I9VzXrHxO9rA9A5euc8Ak\", \n",
    "                    \"artist_uri\": \"spotify:artist:26dSoYclwsYLMAKD3tpOr4\", \n",
    "                    \"track_name\": \"Toxic\", \n",
    "                    \"album_uri\": \"spotify:album:0z7pVBGOD7HCIB7S8eLkLI\", \n",
    "                    \"duration_ms\": 198800, \n",
    "                    \"album_name\": \"In The Zone\"\n",
    "                }, "
   ]
  },
  {
   "cell_type": "markdown",
   "metadata": {},
   "source": [
    "### <span style=\"color:#1DB954;\"><b>03/04/2025 Spotify Check In</b></span>\n"
   ]
  },
  {
   "cell_type": "markdown",
   "metadata": {},
   "source": [
    "Create our definition of European countries. We will be using the spotify weekly charts data found from: https://kworb.net/spotify/\n",
    "\n",
    "(As a note, not all European countries are listed on this website as they either can not obtain geographical listening data for them or it is just not collected)"
   ]
  },
  {
   "cell_type": "code",
   "execution_count": 1,
   "metadata": {},
   "outputs": [
    {
     "name": "stdout",
     "output_type": "stream",
     "text": [
      "['Albania', 'Andorra', 'Austria', 'Belarus', 'Belgium', 'Bosnia and Herzegovina', 'Bulgaria', 'Croatia', 'Cyprus', 'Czech Republic', 'Denmark', 'Estonia', 'Finland', 'France', 'Germany', 'Greece', 'Hungary', 'Iceland', 'Ireland', 'Italy', 'Latvia', 'Liechtenstein', 'Lithuania', 'Luxembourg', 'Malta', 'Moldova', 'Monaco', 'Montenegro', 'Netherlands', 'North Macedonia', 'Norway', 'Poland', 'Portugal', 'Romania', 'Russia', 'San Marino', 'Serbia', 'Slovakia', 'Slovenia', 'Spain', 'Sweden', 'Switzerland', 'Ukraine', 'United Kingdom', 'Vatican City']\n"
     ]
    }
   ],
   "source": [
    "# Define the list of European countries\n",
    "EuropeanCountries = [\n",
    "    \"Albania\", \"Andorra\", \"Austria\", \"Belarus\", \"Belgium\", \"Bosnia and Herzegovina\",\n",
    "    \"Bulgaria\", \"Croatia\", \"Cyprus\", \"Czech Republic\", \"Denmark\", \"Estonia\", \"Finland\",\n",
    "    \"France\", \"Germany\", \"Greece\", \"Hungary\", \"Iceland\", \"Ireland\", \"Italy\", \"Latvia\",\n",
    "    \"Liechtenstein\", \"Lithuania\", \"Luxembourg\", \"Malta\", \"Moldova\", \"Monaco\", \"Montenegro\",\n",
    "    \"Netherlands\", \"North Macedonia\", \"Norway\", \"Poland\", \"Portugal\", \"Romania\", \"Russia\",\n",
    "    \"San Marino\", \"Serbia\", \"Slovakia\", \"Slovenia\", \"Spain\", \"Sweden\", \"Switzerland\",\n",
    "    \"Ukraine\", \"United Kingdom\", \"Vatican City\"\n",
    "]\n",
    "\n",
    "# Print the list of European countries\n",
    "print(EuropeanCountries)"
   ]
  },
  {
   "cell_type": "markdown",
   "metadata": {},
   "source": [
    "Spotify charts"
   ]
  },
  {
   "cell_type": "code",
   "execution_count": 2,
   "metadata": {},
   "outputs": [],
   "source": [
    "# List of countries available in Spotify charts\n",
    "SpotifyCharts = [\n",
    "    \"Global\", \"United States\", \"United Kingdom\", \"Andorra\", \"Argentina\", \"Australia\",\n",
    "    \"Austria\", \"Belarus\", \"Belgium\", \"Bolivia\", \"Brazil\", \"Bulgaria\", \"Canada\", \"Chile\",\n",
    "    \"Colombia\", \"Costa Rica\", \"Cyprus\", \"Czech Republic\", \"Denmark\", \"Dominican Republic\",\n",
    "    \"Ecuador\", \"Egypt\", \"El Salvador\", \"Estonia\", \"Finland\", \"France\", \"Germany\", \"Greece\",\n",
    "    \"Guatemala\", \"Honduras\", \"Hong Kong\", \"Hungary\", \"Iceland\", \"India\", \"Indonesia\",\n",
    "    \"Ireland\", \"Israel\", \"Italy\", \"Japan\", \"Kazakhstan\", \"Latvia\", \"Lithuania\", \"Luxembourg\",\n",
    "    \"Malaysia\", \"Malta\", \"Mexico\", \"Morocco\", \"Netherlands\", \"New Zealand\", \"Nicaragua\",\n",
    "    \"Nigeria\", \"Norway\", \"Pakistan\", \"Panama\", \"Paraguay\", \"Peru\", \"Philippines\", \"Poland\",\n",
    "    \"Portugal\", \"Romania\", \"Russia\", \"Saudi Arabia\", \"Singapore\", \"Slovakia\", \"South Africa\",\n",
    "    \"South Korea\", \"Spain\", \"Sweden\", \"Switzerland\", \"Taiwan\", \"Thailand\", \"Turkey\",\n",
    "    \"Ukraine\", \"United Arab Emirates\", \"Uruguay\", \"Venezuela\", \"Vietnam\"\n",
    "]"
   ]
  },
  {
   "cell_type": "code",
   "execution_count": 3,
   "metadata": {},
   "outputs": [
    {
     "data": {
      "text/plain": [
       "45"
      ]
     },
     "execution_count": 3,
     "metadata": {},
     "output_type": "execute_result"
    }
   ],
   "source": [
    "len(EuropeanCountries)"
   ]
  },
  {
   "cell_type": "code",
   "execution_count": 5,
   "metadata": {},
   "outputs": [
    {
     "name": "stdout",
     "output_type": "stream",
     "text": [
      "['United Kingdom', 'Andorra', 'Austria', 'Belarus', 'Belgium', 'Bulgaria', 'Cyprus', 'Czech Republic', 'Denmark', 'Estonia', 'Finland', 'France', 'Germany', 'Greece', 'Hungary', 'Iceland', 'Ireland', 'Italy', 'Latvia', 'Lithuania', 'Luxembourg', 'Malta', 'Netherlands', 'Norway', 'Poland', 'Portugal', 'Romania', 'Russia', 'Slovakia', 'Spain', 'Sweden', 'Switzerland', 'Ukraine']\n"
     ]
    }
   ],
   "source": [
    "# Filter out only European countries present in Spotify charts\n",
    "EuroSpotifyCharts = [country for country in SpotifyCharts if country in EuropeanCountries]\n",
    "\n",
    "# Print the list\n",
    "print(EuroSpotifyCharts)"
   ]
  },
  {
   "cell_type": "code",
   "execution_count": 6,
   "metadata": {},
   "outputs": [
    {
     "data": {
      "text/plain": [
       "33"
      ]
     },
     "execution_count": 6,
     "metadata": {},
     "output_type": "execute_result"
    }
   ],
   "source": [
    "len(EuroSpotifyCharts)"
   ]
  },
  {
   "cell_type": "markdown",
   "metadata": {},
   "source": [
    "I will get the Spotify Weekly Chart Totals - Global from kworb.net for each of those above EuroSpotifyCharts. I will get the top 100 per country.\n",
    "\n",
    "* I have an excel document where each sheet as those EuroSpotifyChart countries. Within that it has 'Week of' and it appears to be every Thursday it gets updated. This first iteration saved is for 2025-02-27"
   ]
  },
  {
   "cell_type": "markdown",
   "metadata": {},
   "source": [
    "    Covers charts from 2013/04/28 to 2025/02/27.\n",
    "    Totals do not include time spent outside the weekly chart."
   ]
  },
  {
   "cell_type": "markdown",
   "metadata": {},
   "source": []
  },
  {
   "cell_type": "code",
   "execution_count": 7,
   "metadata": {},
   "outputs": [],
   "source": [
    "import pandas as pd"
   ]
  },
  {
   "cell_type": "code",
   "execution_count": 8,
   "metadata": {},
   "outputs": [],
   "source": [
    "UKWeeklyChart02272025 = pd.read_csv('https://github.com/eadamsRU/Independent_Study/raw/refs/heads/main/kworb_Weekly_Spotify_Charts%20-%20United%20Kingdom.csv')\n"
   ]
  },
  {
   "cell_type": "code",
   "execution_count": 9,
   "metadata": {},
   "outputs": [
    {
     "data": {
      "text/html": [
       "<div>\n",
       "<style scoped>\n",
       "    .dataframe tbody tr th:only-of-type {\n",
       "        vertical-align: middle;\n",
       "    }\n",
       "\n",
       "    .dataframe tbody tr th {\n",
       "        vertical-align: top;\n",
       "    }\n",
       "\n",
       "    .dataframe thead th {\n",
       "        text-align: right;\n",
       "    }\n",
       "</style>\n",
       "<table border=\"1\" class=\"dataframe\">\n",
       "  <thead>\n",
       "    <tr style=\"text-align: right;\">\n",
       "      <th></th>\n",
       "      <th>Week of 2025/02/27</th>\n",
       "      <th>Unnamed: 1</th>\n",
       "      <th>Unnamed: 2</th>\n",
       "      <th>Unnamed: 3</th>\n",
       "      <th>Unnamed: 4</th>\n",
       "      <th>Unnamed: 5</th>\n",
       "    </tr>\n",
       "  </thead>\n",
       "  <tbody>\n",
       "    <tr>\n",
       "      <th>0</th>\n",
       "      <td>Artist and Title</td>\n",
       "      <td>Weeks</td>\n",
       "      <td>Top10</td>\n",
       "      <td>Peak</td>\n",
       "      <td>PkStreams</td>\n",
       "      <td>Total</td>\n",
       "    </tr>\n",
       "    <tr>\n",
       "      <th>1</th>\n",
       "      <td>The Killers - Mr. Brightside</td>\n",
       "      <td>536</td>\n",
       "      <td>NaN</td>\n",
       "      <td>12</td>\n",
       "      <td>1,441,659</td>\n",
       "      <td>373,676,872</td>\n",
       "    </tr>\n",
       "    <tr>\n",
       "      <th>2</th>\n",
       "      <td>Lewis Capaldi - Someone You Loved</td>\n",
       "      <td>313</td>\n",
       "      <td>42</td>\n",
       "      <td>1</td>\n",
       "      <td>4,128,542</td>\n",
       "      <td>320,565,650</td>\n",
       "    </tr>\n",
       "  </tbody>\n",
       "</table>\n",
       "</div>"
      ],
      "text/plain": [
       "                  Week of 2025/02/27 Unnamed: 1 Unnamed: 2 Unnamed: 3  \\\n",
       "0                   Artist and Title      Weeks      Top10       Peak   \n",
       "1       The Killers - Mr. Brightside        536        NaN         12   \n",
       "2  Lewis Capaldi - Someone You Loved        313         42          1   \n",
       "\n",
       "  Unnamed: 4   Unnamed: 5  \n",
       "0  PkStreams        Total  \n",
       "1  1,441,659  373,676,872  \n",
       "2  4,128,542  320,565,650  "
      ]
     },
     "execution_count": 9,
     "metadata": {},
     "output_type": "execute_result"
    }
   ],
   "source": [
    "UKWeeklyChart02272025.head(3)"
   ]
  },
  {
   "cell_type": "markdown",
   "metadata": {},
   "source": [
    "I will need to be subsetting these since realistically I will be using the same csv files, just updating when each weekly chart comes in. \n",
    "By subsetting it will also make it easier to get specific weeks if I need to look back."
   ]
  },
  {
   "cell_type": "markdown",
   "metadata": {},
   "source": [
    "<span style=\"color:#FF4E68;\"><b>try this. After testing, this method worked for me</b></span>\n"
   ]
  },
  {
   "cell_type": "code",
   "execution_count": 10,
   "metadata": {},
   "outputs": [],
   "source": [
    "import pandas as pd\n",
    "\n",
    "# Read CSV while skipping the incorrect first row and using the second row as the header\n",
    "UKWeeklyChart02272025 = pd.read_csv('https://github.com/eadamsRU/Independent_Study/raw/refs/heads/main/kworb_Weekly_Spotify_Charts%20-%20United%20Kingdom.csv', skiprows=1, header=0)  \n",
    "\n",
    "# Save the cleaned dataset if needed\n",
    "#UKWeeklyChart02272025.to_csv(\"cleaned_dataset.csv\", index=False)\n",
    "\n",
    "# Display the first few rows\n",
    "#print(UKWeeklyChart02272025.head())"
   ]
  },
  {
   "cell_type": "code",
   "execution_count": 11,
   "metadata": {},
   "outputs": [
    {
     "data": {
      "text/html": [
       "<div>\n",
       "<style scoped>\n",
       "    .dataframe tbody tr th:only-of-type {\n",
       "        vertical-align: middle;\n",
       "    }\n",
       "\n",
       "    .dataframe tbody tr th {\n",
       "        vertical-align: top;\n",
       "    }\n",
       "\n",
       "    .dataframe thead th {\n",
       "        text-align: right;\n",
       "    }\n",
       "</style>\n",
       "<table border=\"1\" class=\"dataframe\">\n",
       "  <thead>\n",
       "    <tr style=\"text-align: right;\">\n",
       "      <th></th>\n",
       "      <th>Artist and Title</th>\n",
       "      <th>Weeks</th>\n",
       "      <th>Top10</th>\n",
       "      <th>Peak</th>\n",
       "      <th>PkStreams</th>\n",
       "      <th>Total</th>\n",
       "    </tr>\n",
       "  </thead>\n",
       "  <tbody>\n",
       "    <tr>\n",
       "      <th>0</th>\n",
       "      <td>The Killers - Mr. Brightside</td>\n",
       "      <td>536</td>\n",
       "      <td>NaN</td>\n",
       "      <td>12</td>\n",
       "      <td>1,441,659</td>\n",
       "      <td>373,676,872</td>\n",
       "    </tr>\n",
       "    <tr>\n",
       "      <th>1</th>\n",
       "      <td>Lewis Capaldi - Someone You Loved</td>\n",
       "      <td>313</td>\n",
       "      <td>42.0</td>\n",
       "      <td>1</td>\n",
       "      <td>4,128,542</td>\n",
       "      <td>320,565,650</td>\n",
       "    </tr>\n",
       "  </tbody>\n",
       "</table>\n",
       "</div>"
      ],
      "text/plain": [
       "                    Artist and Title  Weeks  Top10  Peak  PkStreams  \\\n",
       "0       The Killers - Mr. Brightside    536    NaN    12  1,441,659   \n",
       "1  Lewis Capaldi - Someone You Loved    313   42.0     1  4,128,542   \n",
       "\n",
       "         Total  \n",
       "0  373,676,872  \n",
       "1  320,565,650  "
      ]
     },
     "execution_count": 11,
     "metadata": {},
     "output_type": "execute_result"
    }
   ],
   "source": [
    "UKWeeklyChart02272025.head(2)"
   ]
  },
  {
   "cell_type": "markdown",
   "metadata": {},
   "source": [
    "<span style=\"color:#FF4E68;\"><b>try this. Splitting the first col on the '-' that way we have Artist and Title. </b></span>\n",
    "\n",
    "<span style=\"color:#1ED760;\"><b> This will make it easier to get dsitinct Artist counts this way</b></span>\n"
   ]
  },
  {
   "cell_type": "code",
   "execution_count": 12,
   "metadata": {},
   "outputs": [
    {
     "name": "stdout",
     "output_type": "stream",
     "text": [
      "Number of distinct artists: 69\n"
     ]
    }
   ],
   "source": [
    "import pandas as pd\n",
    "\n",
    "\n",
    "# Extract the \"Artist\" from the \"Artist - Title\" column\n",
    "UKWeeklyChart02272025[\"Artist\"] = UKWeeklyChart02272025.iloc[:, 0].str.split(\" - \").str[0]  # Splitting by \" - \" and keeping the first part\n",
    "\n",
    "# Count distinct artists\n",
    "distinct_artist_count = UKWeeklyChart02272025[\"Artist\"].nunique()\n",
    "\n",
    "print(f\"Number of distinct artists: {distinct_artist_count}\")"
   ]
  },
  {
   "cell_type": "markdown",
   "metadata": {},
   "source": [
    "<span style=\"color:#FF4E68;\"><b>try this. Splitting the first col on the '-' that way we have Artist and Title. </b></span>\n",
    "\n",
    "<span style=\"color:#1ED760;\"><b> This time we will save this as a new formated dataframe</b></span>"
   ]
  },
  {
   "cell_type": "markdown",
   "metadata": {},
   "source": [
    "Need to edit this a bit more since it does not seem 100% correct right now for what I am after"
   ]
  },
  {
   "cell_type": "code",
   "execution_count": 13,
   "metadata": {},
   "outputs": [
    {
     "name": "stdout",
     "output_type": "stream",
     "text": [
      "                    Artist and Title  Weeks  Top10  Peak  PkStreams  \\\n",
      "0       The Killers - Mr. Brightside    536    NaN    12  1,441,659   \n",
      "1  Lewis Capaldi - Someone You Loved    313   42.0     1  4,128,542   \n",
      "2                Vance Joy - Riptide    519    4.0     7  1,491,723   \n",
      "\n",
      "         Total         Artist              Title  \n",
      "0  373,676,872    The Killers     Mr. Brightside  \n",
      "1  320,565,650  Lewis Capaldi  Someone You Loved  \n",
      "2  265,985,202      Vance Joy            Riptide  \n"
     ]
    }
   ],
   "source": [
    "import pandas as pd\n",
    "\n",
    "formatted_UKWeeklyChart02272025 = UKWeeklyChart02272025.copy()\n",
    "\n",
    "# Split \"Artist - Title\" into separate columns\n",
    "formatted_UKWeeklyChart02272025[[\"Artist\", \"Title\"]] = UKWeeklyChart02272025.iloc[:, 0].str.split(\" - \", n=1, expand=True)\n",
    "\n",
    "# Save the new DataFrame\n",
    "# formatted_df.to_csv(\"formatted_dataset.csv\", index=False)\n",
    "\n",
    "# Display the first few rows of the new DataFrame\n",
    "print(formatted_UKWeeklyChart02272025.head(3))\n",
    "\n"
   ]
  },
  {
   "cell_type": "markdown",
   "metadata": {},
   "source": [
    "### <span style=\"color:#1DB954;\"><b> 03/11/2025 Spotify Check in </b></span>"
   ]
  },
  {
   "cell_type": "markdown",
   "metadata": {},
   "source": [
    "Try some analysis with my datsets and see if we can make something out of this."
   ]
  },
  {
   "cell_type": "code",
   "execution_count": 16,
   "metadata": {},
   "outputs": [],
   "source": [
    "import pandas as pd\n",
    "\n",
    "# Read CSV \n",
    "Spotify03112025 = pd.read_csv('https://github.com/eadamsRU/Independent_Study/raw/refs/heads/main/universal_top_spotify_songs_2025_03_10_SLICE.csv')  \n"
   ]
  },
  {
   "cell_type": "code",
   "execution_count": 17,
   "metadata": {},
   "outputs": [
    {
     "data": {
      "text/html": [
       "<div>\n",
       "<style scoped>\n",
       "    .dataframe tbody tr th:only-of-type {\n",
       "        vertical-align: middle;\n",
       "    }\n",
       "\n",
       "    .dataframe tbody tr th {\n",
       "        vertical-align: top;\n",
       "    }\n",
       "\n",
       "    .dataframe thead th {\n",
       "        text-align: right;\n",
       "    }\n",
       "</style>\n",
       "<table border=\"1\" class=\"dataframe\">\n",
       "  <thead>\n",
       "    <tr style=\"text-align: right;\">\n",
       "      <th></th>\n",
       "      <th>spotify_id</th>\n",
       "      <th>name</th>\n",
       "      <th>artists</th>\n",
       "      <th>daily_rank</th>\n",
       "      <th>daily_movement</th>\n",
       "      <th>weekly_movement</th>\n",
       "      <th>country</th>\n",
       "      <th>snapshot_date</th>\n",
       "      <th>popularity</th>\n",
       "      <th>is_explicit</th>\n",
       "      <th>...</th>\n",
       "      <th>key</th>\n",
       "      <th>loudness</th>\n",
       "      <th>mode</th>\n",
       "      <th>speechiness</th>\n",
       "      <th>acousticness</th>\n",
       "      <th>instrumentalness</th>\n",
       "      <th>liveness</th>\n",
       "      <th>valence</th>\n",
       "      <th>tempo</th>\n",
       "      <th>time_signature</th>\n",
       "    </tr>\n",
       "  </thead>\n",
       "  <tbody>\n",
       "    <tr>\n",
       "      <th>0</th>\n",
       "      <td>7so0lgd0zP2Sbgs2d7a1SZ</td>\n",
       "      <td>Die With A Smile</td>\n",
       "      <td>Lady Gaga, Bruno Mars</td>\n",
       "      <td>1</td>\n",
       "      <td>0</td>\n",
       "      <td>49</td>\n",
       "      <td>NaN</td>\n",
       "      <td>2025-03-10</td>\n",
       "      <td>69</td>\n",
       "      <td>False</td>\n",
       "      <td>...</td>\n",
       "      <td>6</td>\n",
       "      <td>-7.727</td>\n",
       "      <td>0</td>\n",
       "      <td>0.0317</td>\n",
       "      <td>0.2890</td>\n",
       "      <td>0.0000</td>\n",
       "      <td>0.126</td>\n",
       "      <td>0.498</td>\n",
       "      <td>157.964</td>\n",
       "      <td>3</td>\n",
       "    </tr>\n",
       "    <tr>\n",
       "      <th>1</th>\n",
       "      <td>4wJ5Qq0jBN4ajy7ouZIV1c</td>\n",
       "      <td>APT.</td>\n",
       "      <td>ROSÉ, Bruno Mars</td>\n",
       "      <td>2</td>\n",
       "      <td>0</td>\n",
       "      <td>0</td>\n",
       "      <td>NaN</td>\n",
       "      <td>2025-03-10</td>\n",
       "      <td>91</td>\n",
       "      <td>False</td>\n",
       "      <td>...</td>\n",
       "      <td>0</td>\n",
       "      <td>-4.477</td>\n",
       "      <td>0</td>\n",
       "      <td>0.2600</td>\n",
       "      <td>0.0283</td>\n",
       "      <td>0.0000</td>\n",
       "      <td>0.355</td>\n",
       "      <td>0.939</td>\n",
       "      <td>149.027</td>\n",
       "      <td>4</td>\n",
       "    </tr>\n",
       "    <tr>\n",
       "      <th>2</th>\n",
       "      <td>2CGNAOSuO1MEFCbBRgUzjd</td>\n",
       "      <td>luther (with sza)</td>\n",
       "      <td>Kendrick Lamar, SZA</td>\n",
       "      <td>3</td>\n",
       "      <td>0</td>\n",
       "      <td>0</td>\n",
       "      <td>NaN</td>\n",
       "      <td>2025-03-10</td>\n",
       "      <td>93</td>\n",
       "      <td>False</td>\n",
       "      <td>...</td>\n",
       "      <td>2</td>\n",
       "      <td>-7.546</td>\n",
       "      <td>1</td>\n",
       "      <td>0.1250</td>\n",
       "      <td>0.2510</td>\n",
       "      <td>0.0000</td>\n",
       "      <td>0.248</td>\n",
       "      <td>0.576</td>\n",
       "      <td>138.008</td>\n",
       "      <td>4</td>\n",
       "    </tr>\n",
       "    <tr>\n",
       "      <th>3</th>\n",
       "      <td>6dOtVTDdiauQNBQEDOtlAB</td>\n",
       "      <td>BIRDS OF A FEATHER</td>\n",
       "      <td>Billie Eilish</td>\n",
       "      <td>4</td>\n",
       "      <td>0</td>\n",
       "      <td>0</td>\n",
       "      <td>NaN</td>\n",
       "      <td>2025-03-10</td>\n",
       "      <td>97</td>\n",
       "      <td>False</td>\n",
       "      <td>...</td>\n",
       "      <td>2</td>\n",
       "      <td>-10.171</td>\n",
       "      <td>1</td>\n",
       "      <td>0.0358</td>\n",
       "      <td>0.2000</td>\n",
       "      <td>0.0608</td>\n",
       "      <td>0.117</td>\n",
       "      <td>0.438</td>\n",
       "      <td>104.978</td>\n",
       "      <td>4</td>\n",
       "    </tr>\n",
       "    <tr>\n",
       "      <th>4</th>\n",
       "      <td>6AI3ezQ4o3HUoP6Dhudph3</td>\n",
       "      <td>Not Like Us</td>\n",
       "      <td>Kendrick Lamar</td>\n",
       "      <td>5</td>\n",
       "      <td>0</td>\n",
       "      <td>0</td>\n",
       "      <td>NaN</td>\n",
       "      <td>2025-03-10</td>\n",
       "      <td>96</td>\n",
       "      <td>True</td>\n",
       "      <td>...</td>\n",
       "      <td>1</td>\n",
       "      <td>-7.001</td>\n",
       "      <td>1</td>\n",
       "      <td>0.0776</td>\n",
       "      <td>0.0107</td>\n",
       "      <td>0.0000</td>\n",
       "      <td>0.141</td>\n",
       "      <td>0.214</td>\n",
       "      <td>101.061</td>\n",
       "      <td>4</td>\n",
       "    </tr>\n",
       "  </tbody>\n",
       "</table>\n",
       "<p>5 rows × 25 columns</p>\n",
       "</div>"
      ],
      "text/plain": [
       "               spotify_id                name                artists  \\\n",
       "0  7so0lgd0zP2Sbgs2d7a1SZ    Die With A Smile  Lady Gaga, Bruno Mars   \n",
       "1  4wJ5Qq0jBN4ajy7ouZIV1c                APT.       ROSÉ, Bruno Mars   \n",
       "2  2CGNAOSuO1MEFCbBRgUzjd   luther (with sza)    Kendrick Lamar, SZA   \n",
       "3  6dOtVTDdiauQNBQEDOtlAB  BIRDS OF A FEATHER          Billie Eilish   \n",
       "4  6AI3ezQ4o3HUoP6Dhudph3         Not Like Us         Kendrick Lamar   \n",
       "\n",
       "   daily_rank  daily_movement  weekly_movement country snapshot_date  \\\n",
       "0           1               0               49     NaN    2025-03-10   \n",
       "1           2               0                0     NaN    2025-03-10   \n",
       "2           3               0                0     NaN    2025-03-10   \n",
       "3           4               0                0     NaN    2025-03-10   \n",
       "4           5               0                0     NaN    2025-03-10   \n",
       "\n",
       "   popularity  is_explicit  ...  key loudness mode  speechiness  acousticness  \\\n",
       "0          69        False  ...    6   -7.727    0       0.0317        0.2890   \n",
       "1          91        False  ...    0   -4.477    0       0.2600        0.0283   \n",
       "2          93        False  ...    2   -7.546    1       0.1250        0.2510   \n",
       "3          97        False  ...    2  -10.171    1       0.0358        0.2000   \n",
       "4          96         True  ...    1   -7.001    1       0.0776        0.0107   \n",
       "\n",
       "   instrumentalness  liveness  valence    tempo  time_signature  \n",
       "0            0.0000     0.126    0.498  157.964               3  \n",
       "1            0.0000     0.355    0.939  149.027               4  \n",
       "2            0.0000     0.248    0.576  138.008               4  \n",
       "3            0.0608     0.117    0.438  104.978               4  \n",
       "4            0.0000     0.141    0.214  101.061               4  \n",
       "\n",
       "[5 rows x 25 columns]"
      ]
     },
     "execution_count": 17,
     "metadata": {},
     "output_type": "execute_result"
    }
   ],
   "source": [
    "Spotify03112025.head()"
   ]
  },
  {
   "cell_type": "markdown",
   "metadata": {},
   "source": [
    "Let us do some analysis with this dataset, this is what I think I will use for the final since it gives the most info and seems easiest to join on other DFs with various keys"
   ]
  },
  {
   "cell_type": "markdown",
   "metadata": {},
   "source": [
    "Artist popularity charts"
   ]
  },
  {
   "cell_type": "code",
   "execution_count": 31,
   "metadata": {},
   "outputs": [],
   "source": [
    "import matplotlib.pyplot as plt\n",
    "import seaborn as sns"
   ]
  },
  {
   "cell_type": "code",
   "execution_count": 36,
   "metadata": {},
   "outputs": [],
   "source": [
    "import pandas as pd\n",
    "import matplotlib.pyplot as plt\n",
    "import seaborn as sns\n",
    "\n",
    "#artist_counts = Spotify03112025['artists'].value_counts().head(10)  # Top 10 artists\n",
    "\n",
    "### 2. Artist Popularity Bar Chart ###\n",
    "# Count artist appearances in the top 50 lists\n",
    "artist_counts = Spotify03112025['artists'].value_counts().head(10).reset_index()\n",
    "artist_counts.columns = ['artists', 'count']  # Add header column\n"
   ]
  },
  {
   "cell_type": "code",
   "execution_count": null,
   "metadata": {},
   "outputs": [],
   "source": [
    "plt.figure(figsize=(12, 6))\n",
    "artist_counts.set_index('artists')['count'].plot(kind='bar', color='skyblue')\n",
    "plt.title(\"Top 10 Most Frequently Appearing Artists\")\n",
    "plt.xlabel(\"Artist\")\n",
    "plt.ylabel(\"Appearances in Top 50\")\n",
    "plt.xticks(rotation=45)\n",
    "plt.show()"
   ]
  },
  {
   "cell_type": "code",
   "execution_count": 30,
   "metadata": {},
   "outputs": [
    {
     "data": {
      "text/html": [
       "<div>\n",
       "<style scoped>\n",
       "    .dataframe tbody tr th:only-of-type {\n",
       "        vertical-align: middle;\n",
       "    }\n",
       "\n",
       "    .dataframe tbody tr th {\n",
       "        vertical-align: top;\n",
       "    }\n",
       "\n",
       "    .dataframe thead th {\n",
       "        text-align: right;\n",
       "    }\n",
       "</style>\n",
       "<table border=\"1\" class=\"dataframe\">\n",
       "  <thead>\n",
       "    <tr style=\"text-align: right;\">\n",
       "      <th></th>\n",
       "      <th>artists</th>\n",
       "      <th>count</th>\n",
       "    </tr>\n",
       "  </thead>\n",
       "  <tbody>\n",
       "    <tr>\n",
       "      <th>0</th>\n",
       "      <td>Bad Bunny</td>\n",
       "      <td>4289</td>\n",
       "    </tr>\n",
       "    <tr>\n",
       "      <th>1</th>\n",
       "      <td>Billie Eilish</td>\n",
       "      <td>2208</td>\n",
       "    </tr>\n",
       "  </tbody>\n",
       "</table>\n",
       "</div>"
      ],
      "text/plain": [
       "         artists  count\n",
       "0      Bad Bunny   4289\n",
       "1  Billie Eilish   2208"
      ]
     },
     "execution_count": 30,
     "metadata": {},
     "output_type": "execute_result"
    }
   ],
   "source": [
    "artist_counts.head(2)"
   ]
  },
  {
   "cell_type": "code",
   "execution_count": 40,
   "metadata": {},
   "outputs": [
    {
     "data": {
      "image/png": "[encoded data removed]",
      "text/plain": [
       "<Figure size 640x480 with 1 Axes>"
      ]
     },
     "metadata": {},
     "output_type": "display_data"
    }
   ],
   "source": [
    "artist_counts.plot(x='artists',y='count',kind='bar')\n",
    "plt.show()"
   ]
  },
  {
   "cell_type": "markdown",
   "metadata": {},
   "source": [
    "Clean it up and add to it. The count is how many times the artists appear in the dataset."
   ]
  },
  {
   "cell_type": "code",
   "execution_count": 54,
   "metadata": {},
   "outputs": [
    {
     "data": {
      "image/png": "[encoded data removed]",
      "text/plain": [
       "<Figure size 1400x800 with 1 Axes>"
      ]
     },
     "metadata": {},
     "output_type": "display_data"
    }
   ],
   "source": [
    "import matplotlib.pyplot as plt\n",
    "from matplotlib.ticker import FuncFormatter\n",
    "\n",
    "# Create a figure and axis object\n",
    "fig, ax = plt.subplots(figsize=(14, 8))\n",
    "\n",
    "# Set the background color of the plot (light gray)\n",
    "ax.set_facecolor('lightgray')\n",
    "\n",
    "# Create a bar chart with outlined bars and thicker outlines\n",
    "bars = ax.bar(artist_counts['artists'], artist_counts['count'], color='#1DB954', edgecolor='black', linewidth=3)\n",
    "\n",
    "# Add title and labels Top 10 Most Frequently Appearing Artists\n",
    "ax.set_title('Top 10 Most Frequently Appearing Artists - 03/10/2025')\n",
    "ax.set_xlabel('Artist(s) Name')\n",
    "ax.set_ylabel('Appearances in Top 50')\n",
    "\n",
    "# Format y-axis to include commas\n",
    "formatter = FuncFormatter(lambda x, _: f'{x:,.0f}')  # Format y-axis with commas\n",
    "ax.yaxis.set_major_formatter(formatter)\n",
    "\n",
    "# Rotate x-axis labels for better visibility\n",
    "plt.xticks(rotation=340)\n",
    "\n",
    "# Adjust layout for better fit\n",
    "plt.tight_layout()\n",
    "\n",
    "# Show the plot\n",
    "plt.show()"
   ]
  },
  {
   "cell_type": "markdown",
   "metadata": {},
   "source": [
    "#### <span style=\"color:#1ED760;\"><b>Country codes and cooresponding countries below:</b></span>"
   ]
  },
  {
   "cell_type": "markdown",
   "metadata": {},
   "source": [
    "need to clean up and make bullet list"
   ]
  },
  {
   "cell_type": "markdown",
   "metadata": {},
   "source": [
    "ZA – South Africa\n",
    "VN – Vietnam\n",
    "VE – Venezuela\n",
    "UY – Uruguay\n",
    "US – United States\n",
    "UA – Ukraine\n",
    "TW – Taiwan\n",
    "TR – Turkey\n",
    "TH – Thailand\n",
    "SV – El Salvador\n",
    "SK – Slovakia\n",
    "SG – Singapore\n",
    "SE – Sweden\n",
    "SA – Saudi Arabia\n",
    "RO – Romania\n",
    "PY – Paraguay\n",
    "PT – Portugal\n",
    "PL – Poland\n",
    "PK – Pakistan\n",
    "PH – Philippines\n",
    "PE – Peru\n",
    "PA – Panama\n",
    "NZ – New Zealand\n",
    "NO – Norway\n",
    "NL – Netherlands\n",
    "NI – Nicaragua\n",
    "NG – Nigeria\n",
    "MY – Malaysia\n",
    "MX – Mexico\n",
    "MA – Morocco\n",
    "LV – Latvia\n",
    "LU – Luxembourg\n",
    "LT – Lithuania\n",
    "KZ – Kazakhstan\n",
    "KR – South Korea\n",
    "JP – Japan\n",
    "IT – Italy\n",
    "IS – Iceland\n",
    "IN – India\n",
    "IL – Israel\n",
    "IE – Ireland\n",
    "ID – Indonesia\n",
    "HU – Hungary\n",
    "HN – Honduras\n",
    "HK – Hong Kong\n",
    "GT – Guatemala\n",
    "GR – Greece\n",
    "FR – France\n",
    "FI – Finland\n",
    "ES – Spain\n",
    "EG – Egypt\n",
    "EE – Estonia\n",
    "EC – Ecuador\n",
    "DO – Dominican Republic\n",
    "DK – Denmark\n",
    "DE – Germany\n",
    "CZ – Czechia (Czech Republic)\n",
    "CR – Costa Rica\n",
    "CO – Colombia\n",
    "CL – Chile\n",
    "CH – Switzerland\n",
    "CA – Canada\n",
    "BY – Belarus\n",
    "BR – Brazil\n",
    "BO – Bolivia\n",
    "BG – Bulgaria\n",
    "BE – Belgium\n",
    "AU – Australia\n",
    "AT – Austria\n",
    "AR – Argentina\n",
    "AE – United Arab Emirates\n",
    "GB – United Kingdom"
   ]
  },
  {
   "cell_type": "markdown",
   "metadata": {},
   "source": [
    "Subquery to get the unique country codes "
   ]
  },
  {
   "cell_type": "code",
   "execution_count": 61,
   "metadata": {},
   "outputs": [
    {
     "name": "stdout",
     "output_type": "stream",
     "text": [
      "Distinct country codes in the dataset:\n",
      "[nan 'ZA' 'VN' 'VE' 'UY' 'US' 'UA' 'TW' 'TR' 'TH' 'SV' 'SK' 'SG' 'SE' 'SA'\n",
      " 'RO' 'PY' 'PT' 'PL' 'PK' 'PH' 'PE' 'PA' 'NZ' 'NO' 'NL' 'NI' 'NG' 'MY'\n",
      " 'MX' 'MA' 'LV' 'LU' 'LT' 'KZ' 'KR' 'JP' 'IT' 'IS' 'IN' 'IL' 'IE' 'ID'\n",
      " 'HU' 'HN' 'HK' 'GT' 'GR' 'FR' 'FI' 'ES' 'EG' 'EE' 'EC' 'DO' 'DK' 'DE'\n",
      " 'CZ' 'CR' 'CO' 'CL' 'CH' 'CA' 'BY' 'BR' 'BO' 'BG' 'BE' 'AU' 'AT' 'AR'\n",
      " 'AE' 'GB']\n"
     ]
    }
   ],
   "source": [
    "import pandas as pd\n",
    "\n",
    "# Get all unique country codes\n",
    "unique_countries = Spotify03112025['country'].unique()\n",
    "\n",
    "# Display the unique country codes\n",
    "print(\"Distinct country codes in the dataset:\")\n",
    "print(unique_countries)"
   ]
  },
  {
   "cell_type": "markdown",
   "metadata": {},
   "source": [
    "Update our working spotify list"
   ]
  },
  {
   "cell_type": "code",
   "execution_count": 70,
   "metadata": {},
   "outputs": [
    {
     "name": "stdout",
     "output_type": "stream",
     "text": [
      "European countries in the Spotify dataset:\n",
      "AT – Austria\n",
      "BE – Belgium\n",
      "BG – Bulgaria\n",
      "BY – Belarus\n",
      "CH – Switzerland\n",
      "CZ – Czech Republic\n",
      "DE – Germany\n",
      "DK – Denmark\n",
      "EE – Estonia\n",
      "ES – Spain\n",
      "FI – Finland\n",
      "FR – France\n",
      "GB – United Kingdom\n",
      "GR – Greece\n",
      "HU – Hungary\n",
      "IE – Ireland\n",
      "IS – Iceland\n",
      "IT – Italy\n",
      "LT – Lithuania\n",
      "LU – Luxembourg\n",
      "LV – Latvia\n",
      "NL – Netherlands\n",
      "NO – Norway\n",
      "PL – Poland\n",
      "PT – Portugal\n",
      "RO – Romania\n",
      "SE – Sweden\n",
      "SK – Slovakia\n",
      "UA – Ukraine\n"
     ]
    }
   ],
   "source": [
    "# Given list of country codes and their corresponding country names\n",
    "spotify_countries = {\n",
    "    \"ZA\": \"South Africa\", \"VN\": \"Vietnam\", \"VE\": \"Venezuela\", \"UY\": \"Uruguay\", \"US\": \"United States\",\n",
    "    \"UA\": \"Ukraine\", \"TW\": \"Taiwan\", \"TR\": \"Turkey\", \"TH\": \"Thailand\", \"SV\": \"El Salvador\",\n",
    "    \"SK\": \"Slovakia\", \"SG\": \"Singapore\", \"SE\": \"Sweden\", \"SA\": \"Saudi Arabia\", \"RO\": \"Romania\",\n",
    "    \"PY\": \"Paraguay\", \"PT\": \"Portugal\", \"PL\": \"Poland\", \"PK\": \"Pakistan\", \"PH\": \"Philippines\",\n",
    "    \"PE\": \"Peru\", \"PA\": \"Panama\", \"NZ\": \"New Zealand\", \"NO\": \"Norway\", \"NL\": \"Netherlands\",\n",
    "    \"NI\": \"Nicaragua\", \"NG\": \"Nigeria\", \"MY\": \"Malaysia\", \"MX\": \"Mexico\", \"MA\": \"Morocco\",\n",
    "    \"LV\": \"Latvia\", \"LU\": \"Luxembourg\", \"LT\": \"Lithuania\", \"KZ\": \"Kazakhstan\", \"KR\": \"South Korea\",\n",
    "    \"JP\": \"Japan\", \"IT\": \"Italy\", \"IS\": \"Iceland\", \"IN\": \"India\", \"IL\": \"Israel\", \"IE\": \"Ireland\",\n",
    "    \"ID\": \"Indonesia\", \"HU\": \"Hungary\", \"HN\": \"Honduras\", \"HK\": \"Hong Kong\", \"GT\": \"Guatemala\",\n",
    "    \"GR\": \"Greece\", \"FR\": \"France\", \"FI\": \"Finland\", \"ES\": \"Spain\", \"EG\": \"Egypt\", \"EE\": \"Estonia\",\n",
    "    \"EC\": \"Ecuador\", \"DO\": \"Dominican Republic\", \"DK\": \"Denmark\", \"DE\": \"Germany\", \"CZ\": \"Czech Republic\",\n",
    "    \"CR\": \"Costa Rica\", \"CO\": \"Colombia\", \"CL\": \"Chile\", \"CH\": \"Switzerland\", \"CA\": \"Canada\",\n",
    "    \"BY\": \"Belarus\", \"BR\": \"Brazil\", \"BO\": \"Bolivia\", \"BG\": \"Bulgaria\", \"BE\": \"Belgium\", \"AU\": \"Australia\",\n",
    "    \"AT\": \"Austria\", \"AR\": \"Argentina\", \"AE\": \"United Arab Emirates\", \"GB\": \"United Kingdom\"\n",
    "}\n",
    "\n",
    "# List of European countries\n",
    "EuropeanCountries = [\n",
    "    \"Albania\", \"Andorra\", \"Austria\", \"Belarus\", \"Belgium\", \"Bosnia and Herzegovina\",\n",
    "    \"Bulgaria\", \"Croatia\", \"Cyprus\", \"Czech Republic\", \"Denmark\", \"Estonia\", \"Finland\",\n",
    "    \"France\", \"Germany\", \"Greece\", \"Hungary\", \"Iceland\", \"Ireland\", \"Italy\", \"Latvia\",\n",
    "    \"Liechtenstein\", \"Lithuania\", \"Luxembourg\", \"Malta\", \"Moldova\", \"Monaco\", \"Montenegro\",\n",
    "    \"Netherlands\", \"North Macedonia\", \"Norway\", \"Poland\", \"Portugal\", \"Romania\", \"Russia\",\n",
    "    \"San Marino\", \"Serbia\", \"Slovakia\", \"Slovenia\", \"Spain\", \"Sweden\", \"Switzerland\",\n",
    "    \"Ukraine\", \"United Kingdom\", \"Vatican City\"\n",
    "]\n",
    "\n",
    "# Find matching country codes that belong to Europe\n",
    "european_country_codes = {code: country for code, country in spotify_countries.items() if country in EuropeanCountries}\n",
    "\n",
    "# Print results\n",
    "print(\"European countries in the Spotify dataset:\")\n",
    "for code, country in sorted(european_country_codes.items()):\n",
    "    print(f\"{code} – {country}\")"
   ]
  },
  {
   "cell_type": "markdown",
   "metadata": {},
   "source": [
    "3 char alpha country codes"
   ]
  },
  {
   "cell_type": "code",
   "execution_count": 71,
   "metadata": {},
   "outputs": [
    {
     "name": "stdout",
     "output_type": "stream",
     "text": [
      "European countries in the Spotify dataset with 3-char ISO codes:\n",
      "AT – AUT\n",
      "BE – BEL\n",
      "BG – BGR\n",
      "BY – BLR\n",
      "CH – CHE\n",
      "CZ – CZE\n",
      "DE – DEU\n",
      "DK – DNK\n",
      "EE – EST\n",
      "ES – ESP\n",
      "FI – FIN\n",
      "FR – FRA\n",
      "GB – GBR\n",
      "GR – GRC\n",
      "HU – HUN\n",
      "IE – IRL\n",
      "IS – ISL\n",
      "IT – ITA\n",
      "LT – LTU\n",
      "LU – LUX\n",
      "LV – LVA\n",
      "NL – NLD\n",
      "NO – NOR\n",
      "PL – POL\n",
      "PT – PRT\n",
      "RO – ROU\n",
      "SE – SWE\n",
      "SK – SVK\n",
      "UA – UKR\n"
     ]
    }
   ],
   "source": [
    "# Mapping of ISO 3166-1 alpha-2 to alpha-3 country codes\n",
    "iso_alpha_3_codes = {\n",
    "    \"AT\": \"AUT\", \"BE\": \"BEL\", \"BG\": \"BGR\", \"BY\": \"BLR\", \"CH\": \"CHE\",\n",
    "    \"CZ\": \"CZE\", \"DE\": \"DEU\", \"DK\": \"DNK\", \"EE\": \"EST\", \"ES\": \"ESP\",\n",
    "    \"FI\": \"FIN\", \"FR\": \"FRA\", \"GB\": \"GBR\", \"GR\": \"GRC\", \"HU\": \"HUN\",\n",
    "    \"IE\": \"IRL\", \"IS\": \"ISL\", \"IT\": \"ITA\", \"LT\": \"LTU\", \"LU\": \"LUX\",\n",
    "    \"LV\": \"LVA\", \"NL\": \"NLD\", \"NO\": \"NOR\", \"PL\": \"POL\", \"PT\": \"PRT\",\n",
    "    \"RO\": \"ROU\", \"SE\": \"SWE\", \"SK\": \"SVK\", \"UA\": \"UKR\"\n",
    "}\n",
    "\n",
    "# Creating a sorted dictionary\n",
    "three_char_sorted_country_codes = {code: iso_alpha_3_codes[code] for code in sorted(iso_alpha_3_codes)}\n",
    "\n",
    "# Print results\n",
    "print(\"European countries in the Spotify dataset with 3-char ISO codes:\")\n",
    "for code, alpha3 in three_char_sorted_country_codes.items():\n",
    "    print(f\"{code} – {alpha3}\")"
   ]
  },
  {
   "cell_type": "markdown",
   "metadata": {},
   "source": [
    "Subquery to get the results where country code is equal to a specified country/countries"
   ]
  },
  {
   "cell_type": "code",
   "execution_count": 59,
   "metadata": {},
   "outputs": [],
   "source": [
    "artist_counts_us = Spotify03112025[Spotify03112025['country'] == 'US']['artists'].value_counts().head(10).reset_index()\n",
    "artist_counts_us.columns = ['artists', 'count']  # Add header column"
   ]
  },
  {
   "cell_type": "markdown",
   "metadata": {},
   "source": [
    "Will do the same as above but only for the US results"
   ]
  },
  {
   "cell_type": "code",
   "execution_count": 60,
   "metadata": {},
   "outputs": [
    {
     "data": {
      "image/png": "[encoded data removed]",
      "text/plain": [
       "<Figure size 1400x800 with 1 Axes>"
      ]
     },
     "metadata": {},
     "output_type": "display_data"
    }
   ],
   "source": [
    "import matplotlib.pyplot as plt\n",
    "from matplotlib.ticker import FuncFormatter\n",
    "\n",
    "# Create a figure and axis object\n",
    "fig, ax = plt.subplots(figsize=(14, 8))\n",
    "\n",
    "# Set the background color of the plot (light gray)\n",
    "ax.set_facecolor('lightgray')\n",
    "\n",
    "# Create a bar chart with outlined bars and thicker outlines\n",
    "bars = ax.bar(artist_counts_us['artists'], artist_counts_us['count'], color='#1DB954', edgecolor='black', linewidth=3)\n",
    "\n",
    "# Add title and labels Top 10 Most Frequently Appearing Artists\n",
    "ax.set_title('Top 10 Most Frequently Appearing Artists in US - 03/10/2025')\n",
    "ax.set_xlabel('Artist(s) Name')\n",
    "ax.set_ylabel('Appearances in Top 50')\n",
    "\n",
    "# Format y-axis to include commas\n",
    "formatter = FuncFormatter(lambda x, _: f'{x:,.0f}')  # Format y-axis with commas\n",
    "ax.yaxis.set_major_formatter(formatter)\n",
    "\n",
    "# Rotate x-axis labels for better visibility\n",
    "plt.xticks(rotation=340)\n",
    "\n",
    "# Adjust layout for better fit\n",
    "plt.tight_layout()\n",
    "\n",
    "# Show the plot\n",
    "plt.show()"
   ]
  },
  {
   "cell_type": "markdown",
   "metadata": {},
   "source": [
    "Same for Great Britain to show the differences between country data"
   ]
  },
  {
   "cell_type": "code",
   "execution_count": 62,
   "metadata": {},
   "outputs": [],
   "source": [
    "artist_counts_gb = Spotify03112025[Spotify03112025['country'] == 'GB']['artists'].value_counts().head(10).reset_index()\n",
    "artist_counts_gb.columns = ['artists', 'count']  # Add header column"
   ]
  },
  {
   "cell_type": "code",
   "execution_count": 63,
   "metadata": {},
   "outputs": [
    {
     "data": {
      "image/png": "[encoded data removed]",
      "text/plain": [
       "<Figure size 1400x800 with 1 Axes>"
      ]
     },
     "metadata": {},
     "output_type": "display_data"
    }
   ],
   "source": [
    "import matplotlib.pyplot as plt\n",
    "from matplotlib.ticker import FuncFormatter\n",
    "\n",
    "# Create a figure and axis object\n",
    "fig, ax = plt.subplots(figsize=(14, 8))\n",
    "\n",
    "# Set the background color of the plot (light gray)\n",
    "ax.set_facecolor('lightgray')\n",
    "\n",
    "# Create a bar chart with outlined bars and thicker outlines\n",
    "bars = ax.bar(artist_counts_gb['artists'], artist_counts_gb['count'], color='#1DB954', edgecolor='black', linewidth=3)\n",
    "\n",
    "# Add title and labels Top 10 Most Frequently Appearing Artists\n",
    "ax.set_title('Top 10 Most Frequently Appearing Artists in GB - 03/10/2025')\n",
    "ax.set_xlabel('Artist(s) Name')\n",
    "ax.set_ylabel('Appearances in Top 50')\n",
    "\n",
    "# Format y-axis to include commas\n",
    "formatter = FuncFormatter(lambda x, _: f'{x:,.0f}')  # Format y-axis with commas\n",
    "ax.yaxis.set_major_formatter(formatter)\n",
    "\n",
    "# Rotate x-axis labels for better visibility\n",
    "plt.xticks(rotation=340)\n",
    "\n",
    "# Adjust layout for better fit\n",
    "plt.tight_layout()\n",
    "\n",
    "# Show the plot\n",
    "plt.show()"
   ]
  },
  {
   "cell_type": "markdown",
   "metadata": {},
   "source": [
    "Treemaps"
   ]
  },
  {
   "cell_type": "code",
   "execution_count": null,
   "metadata": {},
   "outputs": [],
   "source": [
    "import squarify  # For treemap visualization\n",
    "import matplotlib.pyplot as plt\n",
    "\n",
    "# artist_counts_us\n",
    "\n",
    "# Sort counties by median household income rank\n",
    "Spotify03112025_sorted = Spotify03112025.sort_values(by=\"daily_rank\", ascending=True)\n",
    "\n",
    "# Data for the treemap\n",
    "sizes = Spotify03112025_sorted['popularity']  # Size by income\n",
    "labels = Spotify03112025_sorted['daily_rank'] + \"\\nRank: \" + Spotify03112025_sorted['daily_rank'].astype(str)\n",
    "colors = plt.cm.BuGn(sizes / sizes.max())  # Normalize income values for color mapping\n",
    "\n",
    "# Create Treemap\n",
    "plt.figure(figsize=(12, 8))\n",
    "squarify.plot(\n",
    "    sizes=sizes,\n",
    "    label=labels,\n",
    "    color=colors,\n",
    "    alpha=0.8\n",
    ")\n",
    "\n",
    "# Add Title\n",
    "plt.title(\"Treemap of Spotify Artists 03112025\", fontsize=18, fontweight=\"bold\")\n",
    "plt.axis('off')  # Remove axis\n",
    "plt.show()"
   ]
  },
  {
   "cell_type": "markdown",
   "metadata": {},
   "source": [
    "Genre Charts. \n",
    "\n",
    "Genre is currently missing"
   ]
  },
  {
   "cell_type": "markdown",
   "metadata": {},
   "source": [
    "### <span style=\"color:#ffd900\"><b> Resources </b></span>"
   ]
  },
  {
   "cell_type": "markdown",
   "metadata": {},
   "source": [
    "//////////////////////////////// Resources: Datasets, Frameworks, Dev Kits ////////////////////////////////\n",
    "\n",
    "<span style=\"color:#FF4E68;\"><b>Using these</b></span>\n",
    "\n",
    "kaggle.com [spotify datasets]\n",
    "    \n",
    "    * https://www.kaggle.com/datasets/maharshipandya/-spotify-tracks-dataset\n",
    "    * https://www.kaggle.com/datasets/jfreyberg/spotify-chart-data\n",
    "    * https://www.kaggle.com/datasets/carlosgdcj/genius-song-lyrics-with-language-information\n",
    "\n",
    "<span style=\"color:#FF4E68;\"><b>Use this one for future</b></span>\n",
    "\n",
    "* [Spotify Million PLaylist Dataset Challenge]\n",
    "\n",
    "\n",
    "<span style=\"color:#FF4E68;\"><b>Use this one for future</b></span>\n",
    "\n",
    "This is an awesome resource for data for music charts; Itunes, Radio, Spotify, Youtube, Trending, etc.\n",
    "\n",
    "Spotify most streamed artist by country\n",
    "\n",
    "    * https://kworb.net/\n",
    "\n",
    "        * Spotify Charts\n",
    "            * Countries - aggregates of all daily and weekly charts provided by Spotify\n",
    "            * Artists - most streamed artists of all time\n",
    "            * Listeners - Spotify top artists by monthly listeners\n",
    "            * Top Lists -  Spotify most steamed songs\n",
    "\n",
    "    * https://chartmasters.org/most-streamed-artists-ever-on-spotify/\n",
    "\n",
    "everynoise spotify website <span style=\"color:#FF4E68;\"><b>[No longer in use]</b></span>\n",
    "\n",
    "\n",
    "theglobaleconomy.com [European Economic datasets]\n",
    "\n",
    "    * https://www.theglobaleconomy.com/rankings/happiness/Europe/\n",
    "    * https://www.theglobaleconomy.com/download-data.php\n",
    "\n",
    "World happiness index dataset (if In need more metrics to track)\n",
    "\n",
    "    * https://huggingface.co/datasets/nateraw/world-happiness\n",
    "    * https://www.theglobaleconomy.com/rankings/happiness/Europe/\n",
    "\n",
    "Economy\n",
    "* https://www.theglobaleconomy.com/download-data.php\n",
    "\n",
    "spotipy [python framework]\n",
    "\n",
    "https://developer.spotify.com/dashboard [spotify developer dashboard][Need to setup a token/developer account or something]\n",
    "\n",
    "* These would be good to analyze music or audio signals:\n",
    "    * librosa [python framework]\n",
    "    * Madmom [python framework] [music information retrieval(MIR) tasks. Tools for beat tracking, tempo estimation, chord recognition, and more. This would be a great library to dive into if I go into the EDM project]\n",
    "    * SpeechRecognition [python framework]\n",
    "    * Vosk [python framework] [Similar to SpeechRecognition framework but for multiple languages.Offline, open-source]\n",
    "\n",
    "* [Audio Manipulation and Playback]\n",
    "    * PyAudio [python framework] [play and record audio on various platforms]\n",
    "    * Pydub [python framework] [simple tasks like audio manipulation: trimming, splitting, and merging audio files]\n",
    "\n"
   ]
  },
  {
   "cell_type": "markdown",
   "metadata": {},
   "source": [
    "### <span style=\"color:#FFFF00;\"><b> Notebook Dataframe Definitions</b></span>"
   ]
  },
  {
   "cell_type": "markdown",
   "metadata": {},
   "source": [
    "* <span style=\"color:#1ED760;\"><b>Current Working Spotify Datasets: </b></span> SpotifyMMDDYYYY\n",
    "\n",
    "    * <span style=\"color:#1ED760;\"><b>Sub Dataframes: </b></span> \n",
    "        * artist_counts\n",
    "        * artist_counts_us\n",
    "\n",
    "* <span style=\"color:#1ED760;\"><b>European countrycodes: </b></span> \n",
    "    * european_country_codes\n",
    "    * three_char_sorted_country_codes"
   ]
  },
  {
   "cell_type": "markdown",
   "metadata": {},
   "source": [
    "### <span style=\"color:#1DB954;\"><b>Spotify Brand</b></span>\n",
    "\n"
   ]
  },
  {
   "cell_type": "markdown",
   "metadata": {},
   "source": [
    "#### <span style=\"color:#1ED760;\"><b>Spotify resources</b></span>\n"
   ]
  },
  {
   "cell_type": "markdown",
   "metadata": {},
   "source": [
    "color codes: #1DB954, #1ED760"
   ]
  },
  {
   "cell_type": "markdown",
   "metadata": {},
   "source": [
    "apple music color code #FF4E68"
   ]
  },
  {
   "cell_type": "markdown",
   "metadata": {},
   "source": [
    "##### <span style=\"color:#1ED760;\"><b>Spotify Websites</b></span>"
   ]
  },
  {
   "cell_type": "markdown",
   "metadata": {},
   "source": [
    "https://artists.spotify.com/analytics"
   ]
  },
  {
   "cell_type": "markdown",
   "metadata": {},
   "source": [
    "##### <span style=\"color:#1ED760;\"><b>Spotipy Documentation</b></span>"
   ]
  },
  {
   "cell_type": "markdown",
   "metadata": {},
   "source": [
    "###### IDs URIs and URLs"
   ]
  },
  {
   "cell_type": "markdown",
   "metadata": {},
   "source": [
    "* Spotify URI:\n",
    "    * The resource identifier that you can enter, for example, in the Spotify Desktop client’s search box to locate an artist, album, or track. Example: spotify:track:6rqhFgbbKwnb9MLmUQDhG6"
   ]
  },
  {
   "cell_type": "markdown",
   "metadata": {},
   "source": [
    "* Spotify URL:\n",
    "    * An HTML link that opens a track, album, app, playlist or other Spotify resource in a Spotify client. Example: http://open.spotify.com/track/6rqhFgbbKwnb9MLmUQDhG6"
   ]
  },
  {
   "cell_type": "markdown",
   "metadata": {},
   "source": [
    "* Spotify ID: \n",
    "    * is a base-62 number that you can find at the end of the Spotify URI (see above) for an artist, track, album, etc. Example: 6rqhFgbbKwnb9MLmUQDhG6"
   ]
  },
  {
   "cell_type": "markdown",
   "metadata": {},
   "source": [
    "###### Customized token caching"
   ]
  },
  {
   "cell_type": "markdown",
   "metadata": {},
   "source": [
    "Tokens are refreshed automatically and stored by default in the project main folder. As this might not suit everyone’s needs, spotipy provides a way to create customized cache handlers.\n",
    "\n",
    "https://github.com/plamere/spotipy/blob/master/spotipy/cache_handler.py\n",
    "\n",
    "The custom cache handler would need to be a class that inherits from the base cache handler CacheHandler. The default cache handler CacheFileHandler is a good example. An instance of that new class can then be passed as a parameter when creating SpotifyOAuth, SpotifyPKCE or SpotifyImplicitGrant. The following handlers are available and defined in the URL above.\n",
    "\n",
    "CacheFileHandler\n",
    "\n",
    "MemoryCacheHandler\n",
    "\n",
    "DjangoSessionCacheHandler\n",
    "\n",
    "FlaskSessionCacheHandler\n",
    "\n",
    "RedisCacheHandler\n",
    "\n",
    "MemcacheCacheHandler: install with dependency using pip install \"spotipy[pymemcache]\""
   ]
  },
  {
   "cell_type": "markdown",
   "metadata": {},
   "source": [
    "### <span style=\"color:#3680ff;\"><b>TECH STACK</b></span>\n"
   ]
  },
  {
   "cell_type": "markdown",
   "metadata": {},
   "source": [
    "* python\n",
    "* spotipy\n",
    "* SQL\n",
    "* Adobe Illustrator\n",
    "* Rutgers Box (Data hosting alternative to github, for larger files)\n",
    "    * https://it.rutgers.edu/box/"
   ]
  },
  {
   "cell_type": "markdown",
   "metadata": {},
   "source": [
    "### Notes"
   ]
  },
  {
   "cell_type": "code",
   "execution_count": 4,
   "metadata": {},
   "outputs": [
    {
     "name": "stdout",
     "output_type": "stream",
     "text": [
      "['Europe map.jpg', 'independent_study_spotipy.ipynb', 'python logo.png', 'Spotify_logo_with_text.svg.png', 'sql logo.png']\n"
     ]
    }
   ],
   "source": [
    "# Run this to check what files exist in my directory\n",
    "import os\n",
    "print(os.listdir())  # Lists all files in the current directory\n"
   ]
  },
  {
   "cell_type": "markdown",
   "metadata": {},
   "source": [
    "Europe map "
   ]
  },
  {
   "cell_type": "markdown",
   "metadata": {},
   "source": [
    "<img src=\"Europe map.jpg\" width=\"300\">\n"
   ]
  },
  {
   "cell_type": "markdown",
   "metadata": {},
   "source": [
    "How to do a write up with an image inside it"
   ]
  },
  {
   "cell_type": "markdown",
   "metadata": {},
   "source": [
    "<div style=\"display: flex; align-items: center;\">\n",
    "    <div>\n",
    "        <p>This is my write-up about the topic, and I want my image next to my words.</p>\n",
    "    </div>\n",
    "    <div>\n",
    "        <img src=\"Europe map.jpg\" width=\"200\">\n",
    "    </div>\n",
    "</div>\n"
   ]
  },
  {
   "cell_type": "markdown",
   "metadata": {},
   "source": [
    "<img src=\"global economy dataset query.jpg\" width=\"1200\">"
   ]
  },
  {
   "cell_type": "markdown",
   "metadata": {},
   "source": [
    "This above global economy dataset is a great way to join with the one spotify dataset that includes country code.\n",
    "\n",
    "This one is a standard 3 char country code, will need to create a list to bridge to two since the spotify one has a 2 char country code in the dataframe.\n",
    "\n"
   ]
  },
  {
   "cell_type": "code",
   "execution_count": 1,
   "metadata": {},
   "outputs": [],
   "source": [
    "import pandas as pd\n",
    "\n",
    "spotifyTracks = pd.read_csv('SpotifyTracksDataset.csv')"
   ]
  },
  {
   "cell_type": "code",
   "execution_count": null,
   "metadata": {},
   "outputs": [],
   "source": [
    "spotifyTracks.head(5)"
   ]
  },
  {
   "cell_type": "markdown",
   "metadata": {},
   "source": [
    "### <span style=\"color:#FF4E68;\"><b>Future Additions"
   ]
  },
  {
   "cell_type": "markdown",
   "metadata": {},
   "source": [
    "##### <span style=\"color:#FF4E68;\"><b>Notes after 2025-02-25</b></span>"
   ]
  },
  {
   "cell_type": "markdown",
   "metadata": {},
   "source": [
    "\n",
    "sticking with spotify; each song has unique spotify  id, so can possibly do some merging\n",
    "\n",
    "there is also country code\n",
    "\n",
    "evan is interested in where the songs are listened to\n",
    "\n",
    "could analyze lyrics, and get tone or emotions or sentiment like in that older paper:\n",
    "https://link.springer.com/article/10.1007/s10902-009-9150-9\n",
    "\n",
    "so im sure there is a database of lyrics that could then match on artist and song\n",
    "\n",
    "and then do by country or by year artist gender etc"
   ]
  },
  {
   "cell_type": "markdown",
   "metadata": {},
   "source": [
    "##### <span style=\"color:#FF4E68;\"><b>Notes after 2025-03-11</b></span>"
   ]
  },
  {
   "cell_type": "markdown",
   "metadata": {},
   "source": [
    "* world bank api thru pandas - FREE\n",
    "    * that is the producers of it\n",
    "\n",
    "* FRED - federal reserve (international data)\n",
    "\n",
    "* Ukraine war and people listen in war and neighboring counries, making interpretations from it\n",
    " "
   ]
  }
 ],
 "metadata": {
  "kernelspec": {
   "display_name": "Python 3",
   "language": "python",
   "name": "python3"
  },
  "language_info": {
   "codemirror_mode": {
    "name": "ipython",
    "version": 3
   },
   "file_extension": ".py",
   "mimetype": "text/x-python",
   "name": "python",
   "nbconvert_exporter": "python",
   "pygments_lexer": "ipython3",
   "version": "3.12.0"
  }
 },
 "nbformat": 4,
 "nbformat_minor": 2
}
