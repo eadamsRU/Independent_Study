{
 "cells": [
  {
   "cell_type": "markdown",
   "metadata": {},
   "source": [
    "# independent study - 01/28/2025\n"
   ]
  },
  {
   "cell_type": "markdown",
   "metadata": {},
   "source": [
    "### Class one meeting 01/28/2025, summary"
   ]
  },
  {
   "cell_type": "markdown",
   "metadata": {},
   "source": [
    "/////////////////////////////////////////////////////////////////\n",
    "get data as soon as possible like this week\n",
    "\n",
    "contribute to the literature. know what has been done and try and publish your study in the literature.\n",
    "\n",
    "Build on something that has been done\n",
    "\n",
    "think beyond graduatiuon, pick something you are passionate about\n",
    "\n",
    "anything in data science, think like a final project we did for a class.\n",
    "\n",
    "Something publishable, does something new, does something better\n",
    "\n",
    "//////////////////////////////// End goal ////////////////////////////////////////////////\n",
    "do something new, we contribute something to the literature. connect to the literature and imporve upon it\n",
    "\ta way to do this is to find something somebody else already did and you try and extend it or add a twist to it.\n",
    "\t\tSay they did a study in the US but you want to do something for NJ\n",
    "////////////////////////////////////////////////////////////////////////////////\n",
    "////////////////////////////////////////////////////////////////\n",
    "\n",
    "//////////////////////////////// ?Questions? -Answered- ////////////////////////////////\n",
    "Q: what does our deliverables look like this through the semester?\n",
    "\twhat are you looking for as the semester goes, or is the main thing just to deliver the final project and periodically we have check ins\n",
    "\n",
    "A: ***NEXT WEEK do mini  presentation, research question, hypothesis, variables, all the preliminary analysis [02-04-2025]\n",
    "///////////////////////////////////////////////////////////////////////////"
   ]
  },
  {
   "cell_type": "markdown",
   "metadata": {},
   "source": [
    "### Ideas"
   ]
  },
  {
   "cell_type": "markdown",
   "metadata": {},
   "source": [
    "////////////////////////////////////// Spotify API IDEAS ///////////////////////////////////////////////////\n",
    "\n",
    "* How can I get started on say a playlist genre classification analysis hybrid data science project?\n",
    "* I can do say EDM throughout Europe, analysis of similiarities and differences with favorite genres. Maybe cross examine that with culture of countries or international economies and stuff like that\n",
    "* \n",
    "////////////////////////////////////////////////////////////////////////////////////////////////"
   ]
  },
  {
   "cell_type": "markdown",
   "metadata": {},
   "source": [
    "### <span style=\"color:#ff0000;\">Deadlines/Deliverables</span>\n"
   ]
  },
  {
   "cell_type": "markdown",
   "metadata": {},
   "source": [
    "<font color='red'>\n",
    "[02-04-2025]</font>\n",
    "\n",
    "\n",
    "\t*Next week have the datasets, along with mini presentation:\n",
    "\t\tDo some prelimanry analysis, like some descriptive stats\n",
    "\t\t\t* Have a one page writeup to propose this study: \n",
    "\t\t\t\t- research question,\n",
    "\t\t\t\t- hypothesis,\n",
    "\t\t\t\t- what kind of variables,\n",
    "\t\t\t\t- All preliminary analysis, \n",
    "\t\t\t\t- significance, \"why are we doing this?\"\n",
    "\n",
    "\t* Send him the github:\n",
    "\t\t- Have the writeup as a notebook and upload there\n",
    "\t\t- Have theaok as a contributor on that github repo\n",
    "\n",
    "\n",
    "<font color='red'>\n",
    "[03/15/2025-03/23/2025]</font>\n",
    "\n",
    "\t* Early draft around mid semester like around spring break\n",
    "\n",
    "\n",
    "<font color='red'>\n",
    "[05/08/2025-05/14/2025]</font>\n",
    "\n",
    "\t* Final Exam Period\n"
   ]
  },
  {
   "cell_type": "markdown",
   "metadata": {},
   "source": [
    "### One Page Writeup\n"
   ]
  },
  {
   "cell_type": "markdown",
   "metadata": {},
   "source": [
    "<font color=#1DB954>\n",
    "<font size=10>\n",
    "<b>EDM LISTENING TRENDS ACROSS EUROPE USING SPOTIPY</b>\n",
    "</font></font>\n",
    "\n",
    "<font color=#1ED76>\n",
    "<font size=6>\n",
    "\n",
    "Hypothesis:\n",
    "</font></font>\n",
    "\n",
    "Null Hypothesis (H0)\n",
    "H0: There is no significant difference in EDM track characteristics (tempo, energy, danceability, etc.) across European countries.\n",
    "(This serves as the baseline to test against in statistical analyses.)\n",
    "\n",
    "Alternative Hypothesis (H1)\n",
    "H1: The tempo of popular EDM tracks in European countries correlates with national happiness index scores\n",
    "(Example expectation: Countries with higher happiness scores may prefer more upbeat and energetic EDM music.)\n",
    "\n",
    "Alternative Hypothesis (H2)\n",
    "H2: The frequency of popular EDM tracks being played throughout European countries correlates with Countries GDP per capita\n",
    "(Example expectation: Countries with greater GDP per capita may prefer more EDM music to be played.)\n",
    "\n",
    "\t()\n",
    "<font color=#1ED76>\n",
    "<font size=6>\n",
    "Research question:\n",
    "</font></font>\n",
    "\n",
    "Based on the hypothesis, is this accurate to use as another cross-examing factor to analysis countries national happiness scores?\n",
    "We can also base this on their economic scenarios. Countries listening to happy music could be doing very well. More people listening to upbeat/fast tempo music could mean more parties and celebrations occuring. Odds are if times are tough, people would not be celebrating as much.\n",
    "\n",
    "\n",
    "<font color=#1ED76>\n",
    "<font size=6>\n",
    "\n",
    "Preliminary Analysis:\n",
    "</font></font>\n",
    "\n",
    "Need to get an understanding of how the Spotipy, and other spotify datasets frame this data. How exactly it is measured and what not.\n",
    "\n",
    "\tWhy are we doing this?:\n",
    "\n",
    "* This is just an interesting study to do that is both fun but can give use a new look into how countries can have their overall \"Wellness\" tracked. My hyptothesis is that if a countries economy is doing well odds are people are celebrating privately. \n",
    "* Why something like this is important is to see people, businesses, and other foreign countries trying to forcast where they should allocate their pursuits for the future. Any business person will want to do business with an area that shows great promise.\n",
    "<font color=#1ED76>\n",
    "<font size=6>\n",
    "Variables (include definitions/explanations):\n",
    "</font></font>\n",
    "\n",
    "This below dataset is from https://www.kaggle.com/datasets/maharshipandya/-spotify-tracks-dataset This is just one of the datasets I plan on using. Ideally I want to use something with Spotipy or use Spotify's devolper dashboard, but this is just to give some sort of idea.: \n",
    "\n",
    "* '#'\n",
    "* track_id\n",
    "* artists\n",
    "* album_name\n",
    "* track_name\n",
    "* popularity\n",
    "* duration_ms\n",
    "* explicit\n",
    "* danceability\n",
    "* energy\n",
    "* key\n",
    "* loudness\n",
    "* mode\n",
    "* speechiness\n",
    "* acousticness\n",
    "* instrumentalness\n",
    "* liveness\n",
    "* valence\n",
    "* tempo\n",
    "* time_signature\n",
    "* track_genre\n",
    "\n",
    "I plan to have the focus be on only EDM songs with the dataaset used like the above for the final product.\n",
    "\n",
    "These are some of the variables found from the https://www.theglobaleconomy.com/download-data.php data query for European countries available on the site that I queried for the time period 2008-2025 (Spotifdy was founded in 2008, odds are all of our data from Spotify won't be from this exact date range but just a note.) \n",
    "\n",
    "* Country\n",
    "* Code\n",
    "* Continent\n",
    "* Year\n",
    "* Economic growth\n",
    "* Inflation percent change in the Consumer Price Index\n",
    "* Unemployment Rate\n",
    "* Youth Employment,a ges 15-24\n",
    "* GDP per capita, current U.S. dollars\n",
    "* Labor force, million people\n",
    "* Exchange rate regimes\n",
    "* Self-employment, percent of total employment\n",
    "* Financial development\n",
    "* Innovations index (0-100)\n",
    "* Happiness Index, 0 (unhappy) - 10 (happy)\n",
    "* Average hours worked per year\n",
    "\n",
    "\n",
    "\n",
    "<font color=#1ED76>\n",
    "<font size=6>\n",
    "\n",
    "Descriptive stats:\n",
    "</font></font>\n",
    "\n",
    "[Based on kaggle dataset - \"Spotify Tracks Dataset\" https://www.kaggle.com/datasets/maharshipandya/-spotify-tracks-dataset]\n",
    "* danceability\n",
    "* energy\n",
    "* popularity\n",
    "\n",
    "Economic status\n",
    "* Country GDP per capita\n",
    "\n",
    "National happiness index score rating variable\n",
    "\t[Need to find a dataset for this for all of Europe]\n"
   ]
  },
  {
   "cell_type": "markdown",
   "metadata": {},
   "source": [
    "### <span style=\"color:#ffd900\"> Resources </span>"
   ]
  },
  {
   "cell_type": "markdown",
   "metadata": {},
   "source": [
    "//////////////////////////////// Resources: Datasets, Frameworks, Dev Kits ////////////////////////////////\n",
    "\n",
    "kaggle.com [spotify datasets]\n",
    "    \n",
    "    * https://www.kaggle.com/datasets/maharshipandya/-spotify-tracks-dataset\n",
    "\n",
    "theglobaleconomy.com [European Economic datasets]\n",
    "\n",
    "    * https://www.theglobaleconomy.com/rankings/happiness/Europe/\n",
    "    * https://www.theglobaleconomy.com/download-data.php\n",
    "\n",
    "World happiness index dataset (if In need more metrics to track)\n",
    "\n",
    "    * https://huggingface.co/datasets/nateraw/world-happiness\n",
    "\n",
    "spotipy [python framework]\n",
    "\n",
    "https://developer.spotify.com/dashboard [spotify developer dashboard][Need to setup a token/developer account or something]\n",
    "\n",
    "* These would be good to analyze music or audio signals:\n",
    "    * librosa [python framework]\n",
    "    * Madmom [python framework] [music information retrieval(MIR) tasks. Tools for beat tracking, tempo estimation, chord recognition, and more. This would be a great library to dive into if I go into the EDM project]\n",
    "    * SpeechRecognition [python framework]\n",
    "    * Vosk [python framework] [Similar to SpeechRecognition framework but for multiple languages.Offline, open-source]\n",
    "\n",
    "* [Audio Manipulation and Playback]\n",
    "    * PyAudio [python framework] [play and record audio on various platforms]\n",
    "    * Pydub [python framework] [simple tasks like audio manipulation: trimming, splitting, and merging audio files]\n",
    "\n"
   ]
  },
  {
   "cell_type": "markdown",
   "metadata": {},
   "source": [
    "### <span style=\"color:#1DB954;\"><b>Spotify</b></span>\n",
    "\n"
   ]
  },
  {
   "cell_type": "markdown",
   "metadata": {},
   "source": [
    "#### <span style=\"color:#1ED760;\"><b>Spotify resources</b></span>\n"
   ]
  },
  {
   "cell_type": "markdown",
   "metadata": {},
   "source": [
    "color codes: #1DB954, #1ED760"
   ]
  },
  {
   "cell_type": "markdown",
   "metadata": {},
   "source": [
    "apple music color code #FF4E68"
   ]
  },
  {
   "cell_type": "markdown",
   "metadata": {},
   "source": [
    "### <span style=\"color:#3680ff;\"><b>TECH STACK</b></span>\n"
   ]
  },
  {
   "cell_type": "markdown",
   "metadata": {},
   "source": [
    "* python\n",
    "* spotipy\n",
    "* SQL\n",
    "* Adobe Illustrator"
   ]
  },
  {
   "cell_type": "markdown",
   "metadata": {},
   "source": [
    "### Notes"
   ]
  },
  {
   "cell_type": "markdown",
   "metadata": {},
   "source": [
    "End notes from Professor AOK \n",
    "notes from today:\n",
    "\n",
    "in general:\n",
    "\n",
    "for next week: lets shoot for one pager that would propose your study: research questions, hypotheses, data, variables, significance ie why you are doing this; ideally do some preliminary analysis like descriptive stats; share your githubs with me and put info into notebook \n",
    "\n",
    "next week can do mini presentations\n",
    "\n",
    "do get data asap\n",
    "\n",
    "Evan: spotify API\n",
    "\n",
    "Naimish: healthcare and finance\n",
    "\n",
    "Chetan: prediction: market value, like bitcoin"
   ]
  },
  {
   "cell_type": "code",
   "execution_count": 4,
   "metadata": {},
   "outputs": [
    {
     "name": "stdout",
     "output_type": "stream",
     "text": [
      "['Europe map.jpg', 'independent_study_spotipy.ipynb', 'python logo.png', 'Spotify_logo_with_text.svg.png', 'sql logo.png']\n"
     ]
    }
   ],
   "source": [
    "# Run this to check what files exist in my directory\n",
    "import os\n",
    "print(os.listdir())  # Lists all files in the current directory\n"
   ]
  },
  {
   "cell_type": "markdown",
   "metadata": {},
   "source": [
    "Europe map "
   ]
  },
  {
   "cell_type": "markdown",
   "metadata": {},
   "source": [
    "<img src=\"Europe map.jpg\" width=\"300\">\n"
   ]
  },
  {
   "cell_type": "markdown",
   "metadata": {},
   "source": [
    "How to do a write up with an image inside it"
   ]
  },
  {
   "cell_type": "markdown",
   "metadata": {},
   "source": [
    "<div style=\"display: flex; align-items: center;\">\n",
    "    <div>\n",
    "        <p>This is my write-up about the topic, and I want my image next to my words.</p>\n",
    "    </div>\n",
    "    <div>\n",
    "        <img src=\"Europe map.jpg\" width=\"200\">\n",
    "    </div>\n",
    "</div>\n"
   ]
  },
  {
   "cell_type": "markdown",
   "metadata": {},
   "source": [
    "<img src=\"global economy dataset query.jpg\" width=\"1200\">"
   ]
  },
  {
   "cell_type": "code",
   "execution_count": 1,
   "metadata": {},
   "outputs": [],
   "source": [
    "import pandas as pd\n",
    "\n",
    "spotifyTracks = pd.read_csv('SpotifyTracksDataset.csv')"
   ]
  },
  {
   "cell_type": "code",
   "execution_count": null,
   "metadata": {},
   "outputs": [],
   "source": [
    "spotifyTracks.head(5)"
   ]
  }
 ],
 "metadata": {
  "kernelspec": {
   "display_name": "Python 3",
   "language": "python",
   "name": "python3"
  },
  "language_info": {
   "codemirror_mode": {
    "name": "ipython",
    "version": 3
   },
   "file_extension": ".py",
   "mimetype": "text/x-python",
   "name": "python",
   "nbconvert_exporter": "python",
   "pygments_lexer": "ipython3",
   "version": "3.12.0"
  }
 },
 "nbformat": 4,
 "nbformat_minor": 2
}
